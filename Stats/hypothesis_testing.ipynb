{
 "cells": [
  {
   "cell_type": "code",
   "execution_count": 1,
   "metadata": {},
   "outputs": [],
   "source": [
    "import numpy as np\n",
    "import pandas as pd\n",
    "from scipy.stats import ttest_ind, f, f_oneway, chi2_contingency, ttest_1samp"
   ]
  },
  {
   "cell_type": "code",
   "execution_count": 2,
   "metadata": {},
   "outputs": [],
   "source": [
    "def get_data_from_sheets(excel_file):\n",
    "    return {sheet_name: excel_file.parse(sheet_name) \n",
    "          for sheet_name in excel_file.sheet_names}"
   ]
  },
  {
   "cell_type": "code",
   "execution_count": 3,
   "metadata": {},
   "outputs": [],
   "source": [
    "index_file_path = '../Data/Index_Data.xlsx'\n",
    "\n",
    "index_data = pd.ExcelFile(index_file_path)\n",
    "\n",
    "index_sheets = get_data_from_sheets(index_data)\n",
    "\n",
    "\n",
    "\n",
    "MF_file_path = '../Data/Mutual_Funds_Data.xlsx'\n",
    "\n",
    "MF_data = pd.ExcelFile(MF_file_path)\n",
    "\n",
    "MF_sheets = get_data_from_sheets(MF_data)\n",
    "\n",
    "\n",
    "\n",
    "GB_file_path = '../Data/Gold_Bond_Data.xlsx'\n",
    "\n",
    "GB_data = pd.ExcelFile(GB_file_path)\n",
    "\n",
    "GB_sheets = get_data_from_sheets(GB_data)"
   ]
  },
  {
   "cell_type": "markdown",
   "metadata": {},
   "source": [
    "## 1. Two Sample T-test\n",
    "\n",
    "### Null Hypothesis: The mean closing price of `NSEI` is equal to `BSESN`.\n",
    "### Alternative Hypothesis: The mean closing price of `NSEI` is not equal to `BSESN`."
   ]
  },
  {
   "cell_type": "code",
   "execution_count": 6,
   "metadata": {},
   "outputs": [],
   "source": [
    "NSEI = index_sheets['NSEI']\n",
    "BSESN = index_sheets['BSESN']"
   ]
  },
  {
   "cell_type": "code",
   "execution_count": 7,
   "metadata": {},
   "outputs": [
    {
     "name": "stdout",
     "output_type": "stream",
     "text": [
      "10216.909506408463\n",
      "23484.976475967786\n"
     ]
    }
   ],
   "source": [
    "print(NSEI['Close'].mean())\n",
    "print(BSESN['Close'].mean())"
   ]
  },
  {
   "cell_type": "code",
   "execution_count": 8,
   "metadata": {},
   "outputs": [
    {
     "name": "stdout",
     "output_type": "stream",
     "text": [
      "T-Statistic: -41.72551311100267, p-value: 0.0\n"
     ]
    }
   ],
   "source": [
    "t_stat, test1_p_val = ttest_ind(NSEI['Close'], BSESN['Close'])\n",
    "print(f\"T-Statistic: {t_stat}, p-value: {test1_p_val}\")"
   ]
  },
  {
   "cell_type": "code",
   "execution_count": 9,
   "metadata": {},
   "outputs": [],
   "source": [
    "def test_hypothesis(p_val):\n",
    "    if p_val < 0.05:\n",
    "        return \"Reject the null hypothesis.\"\n",
    "    else:\n",
    "        return \"Fail to reject the null hypothesis.\""
   ]
  },
  {
   "cell_type": "code",
   "execution_count": 10,
   "metadata": {},
   "outputs": [
    {
     "data": {
      "text/plain": [
       "'Reject the null hypothesis.'"
      ]
     },
     "execution_count": 10,
     "metadata": {},
     "output_type": "execute_result"
    }
   ],
   "source": [
    "test_hypothesis(test1_p_val)"
   ]
  },
  {
   "cell_type": "markdown",
   "metadata": {},
   "source": [
    "#### Here, we have rejected the null hypothesis.\n",
    "#### The mean closing price of `NSEI` is not equal to `BSESN`."
   ]
  },
  {
   "cell_type": "markdown",
   "metadata": {},
   "source": [
    "## 2. F-Test\n",
    "\n",
    "### Null Hypothesis: The variances of returns of `CNXIT` and `CNXAUTO` are equal.\n",
    "### Alternative Hypothesis: The variances of returns of `CNXIT` and `CNXAUTO` are not equal."
   ]
  },
  {
   "cell_type": "code",
   "execution_count": 11,
   "metadata": {},
   "outputs": [],
   "source": [
    "CNXIT = index_sheets['CNXIT']\n",
    "CNXAUTO = index_sheets['CNXAUTO']"
   ]
  },
  {
   "cell_type": "code",
   "execution_count": 12,
   "metadata": {},
   "outputs": [
    {
     "data": {
      "text/plain": [
       "Index(['Date', 'Open', 'High', 'Low', 'Close', 'Volume', 'Dividends',\n",
       "       'Stock_Splits', 'Percent_Change_In_Price', 'Momentum_Indicator',\n",
       "       'High_Low_Change', 'High_Open_Change', 'Low_Open_Change', 'Day',\n",
       "       'Month', 'Year'],\n",
       "      dtype='object')"
      ]
     },
     "execution_count": 12,
     "metadata": {},
     "output_type": "execute_result"
    }
   ],
   "source": [
    "CNXIT.columns"
   ]
  },
  {
   "cell_type": "code",
   "execution_count": 13,
   "metadata": {},
   "outputs": [
    {
     "name": "stdout",
     "output_type": "stream",
     "text": [
      "Degree of freedom 1: 3982\n",
      "Degree of freedom 2: 3334\n",
      "F-statistic: 94.39910971668863\n",
      "p-value: 0.0\n"
     ]
    }
   ],
   "source": [
    "CNXIT_variance = np.var(CNXIT['Percent_Change_In_Price'], ddof=1)\n",
    "CNXAUTO_variance = np.var(CNXAUTO['Percent_Change_In_Price'], ddof=1)\n",
    "\n",
    "f_value = CNXIT_variance / CNXAUTO_variance\n",
    "\n",
    "df1 = len(CNXIT['Percent_Change_In_Price']) - 1\n",
    "df2 = len(CNXAUTO['Percent_Change_In_Price']) - 1\n",
    "\n",
    "# cumulative distribution function (CDF)\n",
    "# Survival function = 1 - cdf\n",
    "test2_p_val = 2 * min(f.cdf(f_value, df1, df2), f.sf(f_value, df1, df2))\n",
    "\n",
    "print('Degree of freedom 1:',df1)\n",
    "print('Degree of freedom 2:',df2)\n",
    "print(\"F-statistic:\", f_value)\n",
    "print(\"p-value:\", test2_p_val)"
   ]
  },
  {
   "cell_type": "code",
   "execution_count": 14,
   "metadata": {},
   "outputs": [
    {
     "data": {
      "text/plain": [
       "'Reject the null hypothesis.'"
      ]
     },
     "execution_count": 14,
     "metadata": {},
     "output_type": "execute_result"
    }
   ],
   "source": [
    "test_hypothesis(test2_p_val)"
   ]
  },
  {
   "cell_type": "markdown",
   "metadata": {},
   "source": [
    "#### Here, reject the null hypothesis.\n",
    "\n",
    "#### It means that The variances of returns of `CNXIT` and `CNXAUTO` are not equal"
   ]
  },
  {
   "cell_type": "markdown",
   "metadata": {},
   "source": [
    "## 3. One-way ANOVA\n",
    "\n",
    "### Null Hypothesis: The mean returns of all mutual funds are the same.\n",
    "### Alternative Hypothesis: At least one mutual fund has a different mean return."
   ]
  },
  {
   "cell_type": "code",
   "execution_count": 16,
   "metadata": {},
   "outputs": [
    {
     "name": "stdout",
     "output_type": "stream",
     "text": [
      "F-Statistic: 0.4446922623860055, p-value: 0.975063014532883\n"
     ]
    }
   ],
   "source": [
    "f_stat, test3_p_val = f_oneway(\n",
    "    *[df['Percent_Change_In_Price'].dropna() for df in MF_sheets.values()]\n",
    ")\n",
    "print(f\"F-Statistic: {f_stat}, p-value: {test3_p_val}\")"
   ]
  },
  {
   "cell_type": "code",
   "execution_count": 17,
   "metadata": {},
   "outputs": [
    {
     "data": {
      "text/plain": [
       "'Fail to reject the null hypothesis.'"
      ]
     },
     "execution_count": 17,
     "metadata": {},
     "output_type": "execute_result"
    }
   ],
   "source": [
    "test_hypothesis(test3_p_val)"
   ]
  },
  {
   "cell_type": "markdown",
   "metadata": {},
   "source": [
    "#### Here. we fail to reject the null hypothesis.\n",
    "\n",
    "#### Because of not having sufficient evidences, we are not able to prove that At least one mutual fund has a different mean return."
   ]
  },
  {
   "cell_type": "markdown",
   "metadata": {},
   "source": [
    "## 4. Chi-Square Test\n",
    "\n",
    "### Null Hypothesis: Gold bond returns are independent of market conditions (e.g., bearish or bullish).\n",
    "### Alternative Hypothesis: Gold bond returns are not independent of market conditions."
   ]
  },
  {
   "cell_type": "code",
   "execution_count": 18,
   "metadata": {},
   "outputs": [],
   "source": [
    "GoldBond = GB_sheets['Gold Bond']"
   ]
  },
  {
   "cell_type": "code",
   "execution_count": 19,
   "metadata": {},
   "outputs": [],
   "source": [
    "GoldBond['Gold_Return_Category'] = GoldBond['Percent_Change_In_Price'].apply(\n",
    "    lambda x: 'Positive' if x > 0 else 'Negative'\n",
    ")\n",
    "\n",
    "NSEI['Market_Condition'] = NSEI['Percent_Change_In_Price'].apply(\n",
    "    lambda x: 'Bullish' if x > 0.005 else ('Bearish' if x < -0.005 else 'Neutral')\n",
    ")"
   ]
  },
  {
   "cell_type": "code",
   "execution_count": 20,
   "metadata": {},
   "outputs": [
    {
     "data": {
      "application/vnd.microsoft.datawrangler.viewer.v0+json": {
       "columns": [
        {
         "name": "index",
         "rawType": "int64",
         "type": "integer"
        },
        {
         "name": "Date",
         "rawType": "datetime64[ns]",
         "type": "datetime"
        },
        {
         "name": "Series",
         "rawType": "object",
         "type": "string"
        },
        {
         "name": "Open",
         "rawType": "float64",
         "type": "float"
        },
        {
         "name": "High",
         "rawType": "float64",
         "type": "float"
        },
        {
         "name": "Low",
         "rawType": "float64",
         "type": "float"
        },
        {
         "name": "Prev_Close",
         "rawType": "float64",
         "type": "float"
        },
        {
         "name": "Ltp",
         "rawType": "float64",
         "type": "float"
        },
        {
         "name": "Close",
         "rawType": "float64",
         "type": "float"
        },
        {
         "name": "Vwap",
         "rawType": "float64",
         "type": "float"
        },
        {
         "name": "52W_H",
         "rawType": "float64",
         "type": "float"
        },
        {
         "name": "52W_L",
         "rawType": "float64",
         "type": "float"
        },
        {
         "name": "Volume",
         "rawType": "int64",
         "type": "integer"
        },
        {
         "name": "Value",
         "rawType": "float64",
         "type": "float"
        },
        {
         "name": "No_Of_Trades",
         "rawType": "int64",
         "type": "integer"
        },
        {
         "name": "Day",
         "rawType": "int64",
         "type": "integer"
        },
        {
         "name": "Month",
         "rawType": "int64",
         "type": "integer"
        },
        {
         "name": "Year",
         "rawType": "int64",
         "type": "integer"
        },
        {
         "name": "Percent_Change_In_Price",
         "rawType": "float64",
         "type": "float"
        },
        {
         "name": "Momentum_Indicator",
         "rawType": "float64",
         "type": "float"
        },
        {
         "name": "High_Low_Change",
         "rawType": "float64",
         "type": "float"
        },
        {
         "name": "High_Open_Change",
         "rawType": "float64",
         "type": "float"
        },
        {
         "name": "Low_Open_Change",
         "rawType": "float64",
         "type": "float"
        },
        {
         "name": "Gold_Return_Category",
         "rawType": "object",
         "type": "string"
        }
       ],
       "conversionMethod": "pd.DataFrame",
       "ref": "d9d074dc-d4f3-47b7-bab9-d91501fefad1",
       "rows": [
        [
         "0",
         "2019-12-30 00:00:00",
         "GB",
         "3700.0",
         "3700.0",
         "3700.0",
         "3599.5",
         "3700.0",
         "3700.0",
         "3700.0",
         "3840.0",
         "2725.0",
         "6",
         "22200.0",
         "1",
         "30",
         "12",
         "2019",
         null,
         "0.0",
         "0.0",
         "0.0",
         "0.0",
         "Negative"
        ],
        [
         "1",
         "2019-12-23 00:00:00",
         "GB",
         "3750.0",
         "3750.0",
         "3599.0",
         "3589.0",
         "3599.0",
         "3599.5",
         "3616.33",
         "3840.0",
         "2655.29",
         "45",
         "162735.0",
         "5",
         "23",
         "12",
         "2019",
         "-0.02716216216216216",
         "-0.04013333333333333",
         "0.04195609891636565",
         "0.0",
         "-0.04026666666666667",
         "Negative"
        ],
        [
         "2",
         "2019-12-17 00:00:00",
         "GB",
         "3590.0",
         "3590.0",
         "3589.0",
         "3580.05",
         "3589.0",
         "3589.0",
         "3589.4",
         "3840.0",
         "2655.29",
         "25",
         "89735.0",
         "3",
         "17",
         "12",
         "2019",
         "-0.002917071815529915",
         "-0.0002785515320334262",
         "0.0002786291446085261",
         "0.0",
         "-0.0002785515320334262",
         "Negative"
        ],
        [
         "3",
         "2019-12-16 00:00:00",
         "GB",
         "3580.05",
         "3580.05",
         "3580.05",
         "3580.0",
         "3580.05",
         "3580.05",
         "3580.05",
         "3840.0",
         "2655.29",
         "1",
         "3580.05",
         "1",
         "16",
         "12",
         "2019",
         "-0.002493730844246311",
         "0.0",
         "0.0",
         "0.0",
         "0.0",
         "Negative"
        ],
        [
         "4",
         "2019-12-12 00:00:00",
         "GB",
         "3562.0",
         "3580.0",
         "3562.0",
         "3585.0",
         "3580.0",
         "3580.0",
         "3565.0",
         "3840.0",
         "2655.29",
         "6",
         "21390.0",
         "2",
         "12",
         "12",
         "2019",
         "-1.396628538707922e-05",
         "0.005053340819764177",
         "0.005053340819764177",
         "0.005053340819764177",
         "0.0",
         "Negative"
        ]
       ],
       "shape": {
        "columns": 23,
        "rows": 5
       }
      },
      "text/html": [
       "<div>\n",
       "<style scoped>\n",
       "    .dataframe tbody tr th:only-of-type {\n",
       "        vertical-align: middle;\n",
       "    }\n",
       "\n",
       "    .dataframe tbody tr th {\n",
       "        vertical-align: top;\n",
       "    }\n",
       "\n",
       "    .dataframe thead th {\n",
       "        text-align: right;\n",
       "    }\n",
       "</style>\n",
       "<table border=\"1\" class=\"dataframe\">\n",
       "  <thead>\n",
       "    <tr style=\"text-align: right;\">\n",
       "      <th></th>\n",
       "      <th>Date</th>\n",
       "      <th>Series</th>\n",
       "      <th>Open</th>\n",
       "      <th>High</th>\n",
       "      <th>Low</th>\n",
       "      <th>Prev_Close</th>\n",
       "      <th>Ltp</th>\n",
       "      <th>Close</th>\n",
       "      <th>Vwap</th>\n",
       "      <th>52W_H</th>\n",
       "      <th>...</th>\n",
       "      <th>No_Of_Trades</th>\n",
       "      <th>Day</th>\n",
       "      <th>Month</th>\n",
       "      <th>Year</th>\n",
       "      <th>Percent_Change_In_Price</th>\n",
       "      <th>Momentum_Indicator</th>\n",
       "      <th>High_Low_Change</th>\n",
       "      <th>High_Open_Change</th>\n",
       "      <th>Low_Open_Change</th>\n",
       "      <th>Gold_Return_Category</th>\n",
       "    </tr>\n",
       "  </thead>\n",
       "  <tbody>\n",
       "    <tr>\n",
       "      <th>0</th>\n",
       "      <td>2019-12-30</td>\n",
       "      <td>GB</td>\n",
       "      <td>3700.00</td>\n",
       "      <td>3700.00</td>\n",
       "      <td>3700.00</td>\n",
       "      <td>3599.50</td>\n",
       "      <td>3700.00</td>\n",
       "      <td>3700.00</td>\n",
       "      <td>3700.00</td>\n",
       "      <td>3840.0</td>\n",
       "      <td>...</td>\n",
       "      <td>1</td>\n",
       "      <td>30</td>\n",
       "      <td>12</td>\n",
       "      <td>2019</td>\n",
       "      <td>NaN</td>\n",
       "      <td>0.000000</td>\n",
       "      <td>0.000000</td>\n",
       "      <td>0.000000</td>\n",
       "      <td>0.000000</td>\n",
       "      <td>Negative</td>\n",
       "    </tr>\n",
       "    <tr>\n",
       "      <th>1</th>\n",
       "      <td>2019-12-23</td>\n",
       "      <td>GB</td>\n",
       "      <td>3750.00</td>\n",
       "      <td>3750.00</td>\n",
       "      <td>3599.00</td>\n",
       "      <td>3589.00</td>\n",
       "      <td>3599.00</td>\n",
       "      <td>3599.50</td>\n",
       "      <td>3616.33</td>\n",
       "      <td>3840.0</td>\n",
       "      <td>...</td>\n",
       "      <td>5</td>\n",
       "      <td>23</td>\n",
       "      <td>12</td>\n",
       "      <td>2019</td>\n",
       "      <td>-0.027162</td>\n",
       "      <td>-0.040133</td>\n",
       "      <td>0.041956</td>\n",
       "      <td>0.000000</td>\n",
       "      <td>-0.040267</td>\n",
       "      <td>Negative</td>\n",
       "    </tr>\n",
       "    <tr>\n",
       "      <th>2</th>\n",
       "      <td>2019-12-17</td>\n",
       "      <td>GB</td>\n",
       "      <td>3590.00</td>\n",
       "      <td>3590.00</td>\n",
       "      <td>3589.00</td>\n",
       "      <td>3580.05</td>\n",
       "      <td>3589.00</td>\n",
       "      <td>3589.00</td>\n",
       "      <td>3589.40</td>\n",
       "      <td>3840.0</td>\n",
       "      <td>...</td>\n",
       "      <td>3</td>\n",
       "      <td>17</td>\n",
       "      <td>12</td>\n",
       "      <td>2019</td>\n",
       "      <td>-0.002917</td>\n",
       "      <td>-0.000279</td>\n",
       "      <td>0.000279</td>\n",
       "      <td>0.000000</td>\n",
       "      <td>-0.000279</td>\n",
       "      <td>Negative</td>\n",
       "    </tr>\n",
       "    <tr>\n",
       "      <th>3</th>\n",
       "      <td>2019-12-16</td>\n",
       "      <td>GB</td>\n",
       "      <td>3580.05</td>\n",
       "      <td>3580.05</td>\n",
       "      <td>3580.05</td>\n",
       "      <td>3580.00</td>\n",
       "      <td>3580.05</td>\n",
       "      <td>3580.05</td>\n",
       "      <td>3580.05</td>\n",
       "      <td>3840.0</td>\n",
       "      <td>...</td>\n",
       "      <td>1</td>\n",
       "      <td>16</td>\n",
       "      <td>12</td>\n",
       "      <td>2019</td>\n",
       "      <td>-0.002494</td>\n",
       "      <td>0.000000</td>\n",
       "      <td>0.000000</td>\n",
       "      <td>0.000000</td>\n",
       "      <td>0.000000</td>\n",
       "      <td>Negative</td>\n",
       "    </tr>\n",
       "    <tr>\n",
       "      <th>4</th>\n",
       "      <td>2019-12-12</td>\n",
       "      <td>GB</td>\n",
       "      <td>3562.00</td>\n",
       "      <td>3580.00</td>\n",
       "      <td>3562.00</td>\n",
       "      <td>3585.00</td>\n",
       "      <td>3580.00</td>\n",
       "      <td>3580.00</td>\n",
       "      <td>3565.00</td>\n",
       "      <td>3840.0</td>\n",
       "      <td>...</td>\n",
       "      <td>2</td>\n",
       "      <td>12</td>\n",
       "      <td>12</td>\n",
       "      <td>2019</td>\n",
       "      <td>-0.000014</td>\n",
       "      <td>0.005053</td>\n",
       "      <td>0.005053</td>\n",
       "      <td>0.005053</td>\n",
       "      <td>0.000000</td>\n",
       "      <td>Negative</td>\n",
       "    </tr>\n",
       "  </tbody>\n",
       "</table>\n",
       "<p>5 rows × 23 columns</p>\n",
       "</div>"
      ],
      "text/plain": [
       "        Date Series     Open     High      Low  Prev_Close      Ltp    Close  \\\n",
       "0 2019-12-30     GB  3700.00  3700.00  3700.00     3599.50  3700.00  3700.00   \n",
       "1 2019-12-23     GB  3750.00  3750.00  3599.00     3589.00  3599.00  3599.50   \n",
       "2 2019-12-17     GB  3590.00  3590.00  3589.00     3580.05  3589.00  3589.00   \n",
       "3 2019-12-16     GB  3580.05  3580.05  3580.05     3580.00  3580.05  3580.05   \n",
       "4 2019-12-12     GB  3562.00  3580.00  3562.00     3585.00  3580.00  3580.00   \n",
       "\n",
       "      Vwap   52W_H  ...  No_Of_Trades  Day  Month  Year  \\\n",
       "0  3700.00  3840.0  ...             1   30     12  2019   \n",
       "1  3616.33  3840.0  ...             5   23     12  2019   \n",
       "2  3589.40  3840.0  ...             3   17     12  2019   \n",
       "3  3580.05  3840.0  ...             1   16     12  2019   \n",
       "4  3565.00  3840.0  ...             2   12     12  2019   \n",
       "\n",
       "   Percent_Change_In_Price  Momentum_Indicator  High_Low_Change  \\\n",
       "0                      NaN            0.000000         0.000000   \n",
       "1                -0.027162           -0.040133         0.041956   \n",
       "2                -0.002917           -0.000279         0.000279   \n",
       "3                -0.002494            0.000000         0.000000   \n",
       "4                -0.000014            0.005053         0.005053   \n",
       "\n",
       "   High_Open_Change  Low_Open_Change  Gold_Return_Category  \n",
       "0          0.000000         0.000000              Negative  \n",
       "1          0.000000        -0.040267              Negative  \n",
       "2          0.000000        -0.000279              Negative  \n",
       "3          0.000000         0.000000              Negative  \n",
       "4          0.005053         0.000000              Negative  \n",
       "\n",
       "[5 rows x 23 columns]"
      ]
     },
     "execution_count": 20,
     "metadata": {},
     "output_type": "execute_result"
    }
   ],
   "source": [
    "GoldBond.head()"
   ]
  },
  {
   "cell_type": "code",
   "execution_count": 21,
   "metadata": {},
   "outputs": [
    {
     "data": {
      "application/vnd.microsoft.datawrangler.viewer.v0+json": {
       "columns": [
        {
         "name": "index",
         "rawType": "int64",
         "type": "integer"
        },
        {
         "name": "Date",
         "rawType": "datetime64[ns]",
         "type": "datetime"
        },
        {
         "name": "Series",
         "rawType": "object",
         "type": "string"
        },
        {
         "name": "Open",
         "rawType": "float64",
         "type": "float"
        },
        {
         "name": "High",
         "rawType": "float64",
         "type": "float"
        },
        {
         "name": "Low",
         "rawType": "float64",
         "type": "float"
        },
        {
         "name": "Prev_Close",
         "rawType": "float64",
         "type": "float"
        },
        {
         "name": "Ltp",
         "rawType": "float64",
         "type": "float"
        },
        {
         "name": "Close",
         "rawType": "float64",
         "type": "float"
        },
        {
         "name": "Vwap",
         "rawType": "float64",
         "type": "float"
        },
        {
         "name": "52W_H",
         "rawType": "float64",
         "type": "float"
        },
        {
         "name": "52W_L",
         "rawType": "float64",
         "type": "float"
        },
        {
         "name": "Volume",
         "rawType": "int64",
         "type": "integer"
        },
        {
         "name": "Value",
         "rawType": "float64",
         "type": "float"
        },
        {
         "name": "No_Of_Trades",
         "rawType": "int64",
         "type": "integer"
        },
        {
         "name": "Day",
         "rawType": "int64",
         "type": "integer"
        },
        {
         "name": "Month",
         "rawType": "int64",
         "type": "integer"
        },
        {
         "name": "Year",
         "rawType": "int64",
         "type": "integer"
        },
        {
         "name": "Percent_Change_In_Price",
         "rawType": "float64",
         "type": "float"
        },
        {
         "name": "Momentum_Indicator",
         "rawType": "float64",
         "type": "float"
        },
        {
         "name": "High_Low_Change",
         "rawType": "float64",
         "type": "float"
        },
        {
         "name": "High_Open_Change",
         "rawType": "float64",
         "type": "float"
        },
        {
         "name": "Low_Open_Change",
         "rawType": "float64",
         "type": "float"
        },
        {
         "name": "Gold_Return_Category",
         "rawType": "object",
         "type": "string"
        }
       ],
       "conversionMethod": "pd.DataFrame",
       "ref": "09778899-e6f6-4dc4-9c38-15c6f10db63c",
       "rows": [
        [
         "678",
         "2024-01-15 00:00:00",
         "GB",
         "6240.01",
         "6400.0",
         "6240.01",
         "6220.0",
         "6400.0",
         "6400.0",
         "6293.34",
         "6400.0",
         "5360.0",
         "6",
         "37760.04",
         "2",
         "15",
         "1",
         "2024",
         "0.02400000000000002",
         "0.02563938198816985",
         "0.02563938198816985",
         "0.02563938198816985",
         "0.0",
         "Positive"
        ],
        [
         "679",
         "2024-01-11 00:00:00",
         "GB",
         "6220.0",
         "6220.0",
         "6220.0",
         "6275.0",
         "6220.0",
         "6220.0",
         "6220.0",
         "6340.0",
         "5360.0",
         "5",
         "31100.0",
         "1",
         "11",
         "1",
         "2024",
         "-0.02812499999999996",
         "0.0",
         "0.0",
         "0.0",
         "0.0",
         "Negative"
        ],
        [
         "680",
         "2024-01-09 00:00:00",
         "GB",
         "6275.0",
         "6275.0",
         "6275.0",
         "6275.0",
         "6275.0",
         "6275.0",
         "6275.0",
         "6340.0",
         "5360.0",
         "20",
         "125500.0",
         "2",
         "9",
         "1",
         "2024",
         "0.008842443729903504",
         "0.0",
         "0.0",
         "0.0",
         "0.0",
         "Positive"
        ],
        [
         "681",
         "2024-01-08 00:00:00",
         "GB",
         "6275.0",
         "6275.0",
         "6275.0",
         "6340.0",
         "6275.0",
         "6275.0",
         "6275.0",
         "6340.0",
         "5360.0",
         "4",
         "25100.0",
         "2",
         "8",
         "1",
         "2024",
         "0.0",
         "0.0",
         "0.0",
         "0.0",
         "0.0",
         "Negative"
        ],
        [
         "682",
         "2024-01-05 00:00:00",
         "GB",
         "6340.0",
         "6340.0",
         "6340.0",
         "6340.0",
         "6340.0",
         "6340.0",
         "6340.0",
         "6340.0",
         "5300.0",
         "9",
         "57060.0",
         "2",
         "5",
         "1",
         "2024",
         "0.01035856573705174",
         "0.0",
         "0.0",
         "0.0",
         "0.0",
         "Positive"
        ]
       ],
       "shape": {
        "columns": 23,
        "rows": 5
       }
      },
      "text/html": [
       "<div>\n",
       "<style scoped>\n",
       "    .dataframe tbody tr th:only-of-type {\n",
       "        vertical-align: middle;\n",
       "    }\n",
       "\n",
       "    .dataframe tbody tr th {\n",
       "        vertical-align: top;\n",
       "    }\n",
       "\n",
       "    .dataframe thead th {\n",
       "        text-align: right;\n",
       "    }\n",
       "</style>\n",
       "<table border=\"1\" class=\"dataframe\">\n",
       "  <thead>\n",
       "    <tr style=\"text-align: right;\">\n",
       "      <th></th>\n",
       "      <th>Date</th>\n",
       "      <th>Series</th>\n",
       "      <th>Open</th>\n",
       "      <th>High</th>\n",
       "      <th>Low</th>\n",
       "      <th>Prev_Close</th>\n",
       "      <th>Ltp</th>\n",
       "      <th>Close</th>\n",
       "      <th>Vwap</th>\n",
       "      <th>52W_H</th>\n",
       "      <th>...</th>\n",
       "      <th>No_Of_Trades</th>\n",
       "      <th>Day</th>\n",
       "      <th>Month</th>\n",
       "      <th>Year</th>\n",
       "      <th>Percent_Change_In_Price</th>\n",
       "      <th>Momentum_Indicator</th>\n",
       "      <th>High_Low_Change</th>\n",
       "      <th>High_Open_Change</th>\n",
       "      <th>Low_Open_Change</th>\n",
       "      <th>Gold_Return_Category</th>\n",
       "    </tr>\n",
       "  </thead>\n",
       "  <tbody>\n",
       "    <tr>\n",
       "      <th>678</th>\n",
       "      <td>2024-01-15</td>\n",
       "      <td>GB</td>\n",
       "      <td>6240.01</td>\n",
       "      <td>6400.0</td>\n",
       "      <td>6240.01</td>\n",
       "      <td>6220.0</td>\n",
       "      <td>6400.0</td>\n",
       "      <td>6400.0</td>\n",
       "      <td>6293.34</td>\n",
       "      <td>6400.0</td>\n",
       "      <td>...</td>\n",
       "      <td>2</td>\n",
       "      <td>15</td>\n",
       "      <td>1</td>\n",
       "      <td>2024</td>\n",
       "      <td>0.024000</td>\n",
       "      <td>0.025639</td>\n",
       "      <td>0.025639</td>\n",
       "      <td>0.025639</td>\n",
       "      <td>0.0</td>\n",
       "      <td>Positive</td>\n",
       "    </tr>\n",
       "    <tr>\n",
       "      <th>679</th>\n",
       "      <td>2024-01-11</td>\n",
       "      <td>GB</td>\n",
       "      <td>6220.00</td>\n",
       "      <td>6220.0</td>\n",
       "      <td>6220.00</td>\n",
       "      <td>6275.0</td>\n",
       "      <td>6220.0</td>\n",
       "      <td>6220.0</td>\n",
       "      <td>6220.00</td>\n",
       "      <td>6340.0</td>\n",
       "      <td>...</td>\n",
       "      <td>1</td>\n",
       "      <td>11</td>\n",
       "      <td>1</td>\n",
       "      <td>2024</td>\n",
       "      <td>-0.028125</td>\n",
       "      <td>0.000000</td>\n",
       "      <td>0.000000</td>\n",
       "      <td>0.000000</td>\n",
       "      <td>0.0</td>\n",
       "      <td>Negative</td>\n",
       "    </tr>\n",
       "    <tr>\n",
       "      <th>680</th>\n",
       "      <td>2024-01-09</td>\n",
       "      <td>GB</td>\n",
       "      <td>6275.00</td>\n",
       "      <td>6275.0</td>\n",
       "      <td>6275.00</td>\n",
       "      <td>6275.0</td>\n",
       "      <td>6275.0</td>\n",
       "      <td>6275.0</td>\n",
       "      <td>6275.00</td>\n",
       "      <td>6340.0</td>\n",
       "      <td>...</td>\n",
       "      <td>2</td>\n",
       "      <td>9</td>\n",
       "      <td>1</td>\n",
       "      <td>2024</td>\n",
       "      <td>0.008842</td>\n",
       "      <td>0.000000</td>\n",
       "      <td>0.000000</td>\n",
       "      <td>0.000000</td>\n",
       "      <td>0.0</td>\n",
       "      <td>Positive</td>\n",
       "    </tr>\n",
       "    <tr>\n",
       "      <th>681</th>\n",
       "      <td>2024-01-08</td>\n",
       "      <td>GB</td>\n",
       "      <td>6275.00</td>\n",
       "      <td>6275.0</td>\n",
       "      <td>6275.00</td>\n",
       "      <td>6340.0</td>\n",
       "      <td>6275.0</td>\n",
       "      <td>6275.0</td>\n",
       "      <td>6275.00</td>\n",
       "      <td>6340.0</td>\n",
       "      <td>...</td>\n",
       "      <td>2</td>\n",
       "      <td>8</td>\n",
       "      <td>1</td>\n",
       "      <td>2024</td>\n",
       "      <td>0.000000</td>\n",
       "      <td>0.000000</td>\n",
       "      <td>0.000000</td>\n",
       "      <td>0.000000</td>\n",
       "      <td>0.0</td>\n",
       "      <td>Negative</td>\n",
       "    </tr>\n",
       "    <tr>\n",
       "      <th>682</th>\n",
       "      <td>2024-01-05</td>\n",
       "      <td>GB</td>\n",
       "      <td>6340.00</td>\n",
       "      <td>6340.0</td>\n",
       "      <td>6340.00</td>\n",
       "      <td>6340.0</td>\n",
       "      <td>6340.0</td>\n",
       "      <td>6340.0</td>\n",
       "      <td>6340.00</td>\n",
       "      <td>6340.0</td>\n",
       "      <td>...</td>\n",
       "      <td>2</td>\n",
       "      <td>5</td>\n",
       "      <td>1</td>\n",
       "      <td>2024</td>\n",
       "      <td>0.010359</td>\n",
       "      <td>0.000000</td>\n",
       "      <td>0.000000</td>\n",
       "      <td>0.000000</td>\n",
       "      <td>0.0</td>\n",
       "      <td>Positive</td>\n",
       "    </tr>\n",
       "  </tbody>\n",
       "</table>\n",
       "<p>5 rows × 23 columns</p>\n",
       "</div>"
      ],
      "text/plain": [
       "          Date Series     Open    High      Low  Prev_Close     Ltp   Close  \\\n",
       "678 2024-01-15     GB  6240.01  6400.0  6240.01      6220.0  6400.0  6400.0   \n",
       "679 2024-01-11     GB  6220.00  6220.0  6220.00      6275.0  6220.0  6220.0   \n",
       "680 2024-01-09     GB  6275.00  6275.0  6275.00      6275.0  6275.0  6275.0   \n",
       "681 2024-01-08     GB  6275.00  6275.0  6275.00      6340.0  6275.0  6275.0   \n",
       "682 2024-01-05     GB  6340.00  6340.0  6340.00      6340.0  6340.0  6340.0   \n",
       "\n",
       "        Vwap   52W_H  ...  No_Of_Trades  Day  Month  Year  \\\n",
       "678  6293.34  6400.0  ...             2   15      1  2024   \n",
       "679  6220.00  6340.0  ...             1   11      1  2024   \n",
       "680  6275.00  6340.0  ...             2    9      1  2024   \n",
       "681  6275.00  6340.0  ...             2    8      1  2024   \n",
       "682  6340.00  6340.0  ...             2    5      1  2024   \n",
       "\n",
       "     Percent_Change_In_Price  Momentum_Indicator  High_Low_Change  \\\n",
       "678                 0.024000            0.025639         0.025639   \n",
       "679                -0.028125            0.000000         0.000000   \n",
       "680                 0.008842            0.000000         0.000000   \n",
       "681                 0.000000            0.000000         0.000000   \n",
       "682                 0.010359            0.000000         0.000000   \n",
       "\n",
       "     High_Open_Change  Low_Open_Change  Gold_Return_Category  \n",
       "678          0.025639              0.0              Positive  \n",
       "679          0.000000              0.0              Negative  \n",
       "680          0.000000              0.0              Positive  \n",
       "681          0.000000              0.0              Negative  \n",
       "682          0.000000              0.0              Positive  \n",
       "\n",
       "[5 rows x 23 columns]"
      ]
     },
     "execution_count": 21,
     "metadata": {},
     "output_type": "execute_result"
    }
   ],
   "source": [
    "GoldBond.tail()"
   ]
  },
  {
   "cell_type": "code",
   "execution_count": 22,
   "metadata": {},
   "outputs": [
    {
     "data": {
      "application/vnd.microsoft.datawrangler.viewer.v0+json": {
       "columns": [
        {
         "name": "index",
         "rawType": "int64",
         "type": "integer"
        },
        {
         "name": "Date",
         "rawType": "object",
         "type": "string"
        },
        {
         "name": "Open",
         "rawType": "float64",
         "type": "float"
        },
        {
         "name": "High",
         "rawType": "float64",
         "type": "float"
        },
        {
         "name": "Low",
         "rawType": "float64",
         "type": "float"
        },
        {
         "name": "Close",
         "rawType": "float64",
         "type": "float"
        },
        {
         "name": "Volume",
         "rawType": "int64",
         "type": "integer"
        },
        {
         "name": "Dividends",
         "rawType": "int64",
         "type": "integer"
        },
        {
         "name": "Stock_Splits",
         "rawType": "int64",
         "type": "integer"
        },
        {
         "name": "Percent_Change_In_Price",
         "rawType": "float64",
         "type": "float"
        },
        {
         "name": "Momentum_Indicator",
         "rawType": "float64",
         "type": "float"
        },
        {
         "name": "High_Low_Change",
         "rawType": "float64",
         "type": "float"
        },
        {
         "name": "High_Open_Change",
         "rawType": "float64",
         "type": "float"
        },
        {
         "name": "Low_Open_Change",
         "rawType": "float64",
         "type": "float"
        },
        {
         "name": "Day",
         "rawType": "int64",
         "type": "integer"
        },
        {
         "name": "Month",
         "rawType": "int64",
         "type": "integer"
        },
        {
         "name": "Year",
         "rawType": "int64",
         "type": "integer"
        },
        {
         "name": "Market_Condition",
         "rawType": "object",
         "type": "string"
        }
       ],
       "conversionMethod": "pd.DataFrame",
       "ref": "5bfc7692-52be-4e74-acc3-2f0fdfda02ef",
       "rows": [
        [
         "4267",
         "2025-02-11 00:00:00+05:30",
         "23383.55078125",
         "23390.05078125",
         "22986.650390625",
         "23071.80078125",
         "268000",
         "0",
         "0",
         "-0.01324968493604617",
         "-0.0133320214246493",
         "0.01754933336392174",
         "0.0002779731812677481",
         "-0.01697348680437587",
         "11",
         "2",
         "2025",
         "Bearish"
        ],
        [
         "4268",
         "2025-02-12 00:00:00+05:30",
         "23050.80078125",
         "23144.69921875",
         "22798.349609375",
         "23045.25",
         "279700",
         "0",
         "0",
         "-0.00115078929043011",
         "-0.0002408064389032038",
         "0.0151918720130766",
         "0.00407354340489459",
         "-0.01095194801563463",
         "12",
         "2",
         "2025",
         "Neutral"
        ],
        [
         "4269",
         "2025-02-13 00:00:00+05:30",
         "23055.75",
         "23235.5",
         "22992.19921875",
         "23031.400390625",
         "265700",
         "0",
         "0",
         "-0.0006009745771905495",
         "-0.001056118728516747",
         "0.01058188383526138",
         "0.007796319790074059",
         "-0.002756396180996064",
         "13",
         "2",
         "2025",
         "Neutral"
        ],
        [
         "4270",
         "2025-02-14 00:00:00+05:30",
         "23096.44921875",
         "23133.69921875",
         "22774.849609375",
         "22929.25",
         "254500",
         "0",
         "0",
         "-0.004435266153706374",
         "-0.007239174176360645",
         "0.01575639863840347",
         "0.001612802021955823",
         "-0.0139242013492672",
         "14",
         "2",
         "2025",
         "Neutral"
        ],
        [
         "4271",
         "2025-02-17 00:00:00+05:30",
         "22809.900390625",
         "22974.19921875",
         "22725.44921875",
         "22959.5",
         "0",
         "0",
         "0",
         "0.001319275597762681",
         "0.006558538477287095",
         "0.01094587823569907",
         "0.0072029612278591",
         "-0.003702391085833497",
         "17",
         "2",
         "2025",
         "Neutral"
        ]
       ],
       "shape": {
        "columns": 17,
        "rows": 5
       }
      },
      "text/html": [
       "<div>\n",
       "<style scoped>\n",
       "    .dataframe tbody tr th:only-of-type {\n",
       "        vertical-align: middle;\n",
       "    }\n",
       "\n",
       "    .dataframe tbody tr th {\n",
       "        vertical-align: top;\n",
       "    }\n",
       "\n",
       "    .dataframe thead th {\n",
       "        text-align: right;\n",
       "    }\n",
       "</style>\n",
       "<table border=\"1\" class=\"dataframe\">\n",
       "  <thead>\n",
       "    <tr style=\"text-align: right;\">\n",
       "      <th></th>\n",
       "      <th>Date</th>\n",
       "      <th>Open</th>\n",
       "      <th>High</th>\n",
       "      <th>Low</th>\n",
       "      <th>Close</th>\n",
       "      <th>Volume</th>\n",
       "      <th>Dividends</th>\n",
       "      <th>Stock_Splits</th>\n",
       "      <th>Percent_Change_In_Price</th>\n",
       "      <th>Momentum_Indicator</th>\n",
       "      <th>High_Low_Change</th>\n",
       "      <th>High_Open_Change</th>\n",
       "      <th>Low_Open_Change</th>\n",
       "      <th>Day</th>\n",
       "      <th>Month</th>\n",
       "      <th>Year</th>\n",
       "      <th>Market_Condition</th>\n",
       "    </tr>\n",
       "  </thead>\n",
       "  <tbody>\n",
       "    <tr>\n",
       "      <th>4267</th>\n",
       "      <td>2025-02-11 00:00:00+05:30</td>\n",
       "      <td>23383.550781</td>\n",
       "      <td>23390.050781</td>\n",
       "      <td>22986.650391</td>\n",
       "      <td>23071.800781</td>\n",
       "      <td>268000</td>\n",
       "      <td>0</td>\n",
       "      <td>0</td>\n",
       "      <td>-0.013250</td>\n",
       "      <td>-0.013332</td>\n",
       "      <td>0.017549</td>\n",
       "      <td>0.000278</td>\n",
       "      <td>-0.016973</td>\n",
       "      <td>11</td>\n",
       "      <td>2</td>\n",
       "      <td>2025</td>\n",
       "      <td>Bearish</td>\n",
       "    </tr>\n",
       "    <tr>\n",
       "      <th>4268</th>\n",
       "      <td>2025-02-12 00:00:00+05:30</td>\n",
       "      <td>23050.800781</td>\n",
       "      <td>23144.699219</td>\n",
       "      <td>22798.349609</td>\n",
       "      <td>23045.250000</td>\n",
       "      <td>279700</td>\n",
       "      <td>0</td>\n",
       "      <td>0</td>\n",
       "      <td>-0.001151</td>\n",
       "      <td>-0.000241</td>\n",
       "      <td>0.015192</td>\n",
       "      <td>0.004074</td>\n",
       "      <td>-0.010952</td>\n",
       "      <td>12</td>\n",
       "      <td>2</td>\n",
       "      <td>2025</td>\n",
       "      <td>Neutral</td>\n",
       "    </tr>\n",
       "    <tr>\n",
       "      <th>4269</th>\n",
       "      <td>2025-02-13 00:00:00+05:30</td>\n",
       "      <td>23055.750000</td>\n",
       "      <td>23235.500000</td>\n",
       "      <td>22992.199219</td>\n",
       "      <td>23031.400391</td>\n",
       "      <td>265700</td>\n",
       "      <td>0</td>\n",
       "      <td>0</td>\n",
       "      <td>-0.000601</td>\n",
       "      <td>-0.001056</td>\n",
       "      <td>0.010582</td>\n",
       "      <td>0.007796</td>\n",
       "      <td>-0.002756</td>\n",
       "      <td>13</td>\n",
       "      <td>2</td>\n",
       "      <td>2025</td>\n",
       "      <td>Neutral</td>\n",
       "    </tr>\n",
       "    <tr>\n",
       "      <th>4270</th>\n",
       "      <td>2025-02-14 00:00:00+05:30</td>\n",
       "      <td>23096.449219</td>\n",
       "      <td>23133.699219</td>\n",
       "      <td>22774.849609</td>\n",
       "      <td>22929.250000</td>\n",
       "      <td>254500</td>\n",
       "      <td>0</td>\n",
       "      <td>0</td>\n",
       "      <td>-0.004435</td>\n",
       "      <td>-0.007239</td>\n",
       "      <td>0.015756</td>\n",
       "      <td>0.001613</td>\n",
       "      <td>-0.013924</td>\n",
       "      <td>14</td>\n",
       "      <td>2</td>\n",
       "      <td>2025</td>\n",
       "      <td>Neutral</td>\n",
       "    </tr>\n",
       "    <tr>\n",
       "      <th>4271</th>\n",
       "      <td>2025-02-17 00:00:00+05:30</td>\n",
       "      <td>22809.900391</td>\n",
       "      <td>22974.199219</td>\n",
       "      <td>22725.449219</td>\n",
       "      <td>22959.500000</td>\n",
       "      <td>0</td>\n",
       "      <td>0</td>\n",
       "      <td>0</td>\n",
       "      <td>0.001319</td>\n",
       "      <td>0.006559</td>\n",
       "      <td>0.010946</td>\n",
       "      <td>0.007203</td>\n",
       "      <td>-0.003702</td>\n",
       "      <td>17</td>\n",
       "      <td>2</td>\n",
       "      <td>2025</td>\n",
       "      <td>Neutral</td>\n",
       "    </tr>\n",
       "  </tbody>\n",
       "</table>\n",
       "</div>"
      ],
      "text/plain": [
       "                           Date          Open          High           Low  \\\n",
       "4267  2025-02-11 00:00:00+05:30  23383.550781  23390.050781  22986.650391   \n",
       "4268  2025-02-12 00:00:00+05:30  23050.800781  23144.699219  22798.349609   \n",
       "4269  2025-02-13 00:00:00+05:30  23055.750000  23235.500000  22992.199219   \n",
       "4270  2025-02-14 00:00:00+05:30  23096.449219  23133.699219  22774.849609   \n",
       "4271  2025-02-17 00:00:00+05:30  22809.900391  22974.199219  22725.449219   \n",
       "\n",
       "             Close  Volume  Dividends  Stock_Splits  Percent_Change_In_Price  \\\n",
       "4267  23071.800781  268000          0             0                -0.013250   \n",
       "4268  23045.250000  279700          0             0                -0.001151   \n",
       "4269  23031.400391  265700          0             0                -0.000601   \n",
       "4270  22929.250000  254500          0             0                -0.004435   \n",
       "4271  22959.500000       0          0             0                 0.001319   \n",
       "\n",
       "      Momentum_Indicator  High_Low_Change  High_Open_Change  Low_Open_Change  \\\n",
       "4267           -0.013332         0.017549          0.000278        -0.016973   \n",
       "4268           -0.000241         0.015192          0.004074        -0.010952   \n",
       "4269           -0.001056         0.010582          0.007796        -0.002756   \n",
       "4270           -0.007239         0.015756          0.001613        -0.013924   \n",
       "4271            0.006559         0.010946          0.007203        -0.003702   \n",
       "\n",
       "      Day  Month  Year Market_Condition  \n",
       "4267   11      2  2025          Bearish  \n",
       "4268   12      2  2025          Neutral  \n",
       "4269   13      2  2025          Neutral  \n",
       "4270   14      2  2025          Neutral  \n",
       "4271   17      2  2025          Neutral  "
      ]
     },
     "execution_count": 22,
     "metadata": {},
     "output_type": "execute_result"
    }
   ],
   "source": [
    "NSEI.tail()"
   ]
  },
  {
   "cell_type": "code",
   "execution_count": 23,
   "metadata": {},
   "outputs": [],
   "source": [
    "NSEI['Date'] = pd.to_datetime(NSEI['Date'])\n",
    "NSEI['Date'] = NSEI['Date'].dt.tz_localize(None)"
   ]
  },
  {
   "cell_type": "code",
   "execution_count": 24,
   "metadata": {},
   "outputs": [
    {
     "name": "stdout",
     "output_type": "stream",
     "text": [
      "Market_Condition      Bearish  Bullish  Neutral\n",
      "Gold_Return_Category                           \n",
      "Negative                  101      139      195\n",
      "Positive                   50       77      117\n"
     ]
    }
   ],
   "source": [
    "merged_data = pd.merge(GoldBond[['Date', 'Gold_Return_Category']],\n",
    "                       NSEI[['Date', 'Market_Condition']],\n",
    "                       on='Date')\n",
    "\n",
    "contingency_table = pd.crosstab(merged_data['Gold_Return_Category'], \n",
    "                                merged_data['Market_Condition'])\n",
    "print(contingency_table)"
   ]
  },
  {
   "cell_type": "code",
   "execution_count": 25,
   "metadata": {},
   "outputs": [
    {
     "name": "stdout",
     "output_type": "stream",
     "text": [
      "Chi-Square Statistic: 0.8621403265313069, p-value: 0.6498133161509081\n"
     ]
    }
   ],
   "source": [
    "chi2, test4_p_val, dof, expected = chi2_contingency(contingency_table)\n",
    "print(f\"Chi-Square Statistic: {chi2}, p-value: {test4_p_val}\")"
   ]
  },
  {
   "cell_type": "code",
   "execution_count": 26,
   "metadata": {},
   "outputs": [
    {
     "data": {
      "text/plain": [
       "'Fail to reject the null hypothesis.'"
      ]
     },
     "execution_count": 26,
     "metadata": {},
     "output_type": "execute_result"
    }
   ],
   "source": [
    "test_hypothesis(test4_p_val)"
   ]
  },
  {
   "cell_type": "markdown",
   "metadata": {},
   "source": [
    "#### From p value of the test, we get to know that we fail to reject the null hypothesis.\n",
    "\n",
    "#### We don't have sufficient evidences to justify that Gold bond returns are not independent of market conditions."
   ]
  }
 ],
 "metadata": {
  "kernelspec": {
   "display_name": "Python 3",
   "language": "python",
   "name": "python3"
  },
  "language_info": {
   "codemirror_mode": {
    "name": "ipython",
    "version": 3
   },
   "file_extension": ".py",
   "mimetype": "text/x-python",
   "name": "python",
   "nbconvert_exporter": "python",
   "pygments_lexer": "ipython3",
   "version": "3.8.16"
  }
 },
 "nbformat": 4,
 "nbformat_minor": 2
}
