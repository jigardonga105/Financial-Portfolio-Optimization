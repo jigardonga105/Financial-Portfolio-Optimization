{
 "cells": [
  {
   "cell_type": "code",
   "execution_count": 2,
   "metadata": {},
   "outputs": [],
   "source": [
    "import numpy as np\n",
    "import pandas as pd\n",
    "from scipy.stats import ttest_ind, f, f_oneway, chi2_contingency, ttest_1samp"
   ]
  },
  {
   "cell_type": "code",
   "execution_count": 3,
   "metadata": {},
   "outputs": [],
   "source": [
    "def get_data_from_sheets(excel_file):\n",
    "    return {sheet_name: excel_file.parse(sheet_name) \n",
    "          for sheet_name in excel_file.sheet_names}"
   ]
  },
  {
   "cell_type": "code",
   "execution_count": 4,
   "metadata": {},
   "outputs": [],
   "source": [
    "index_file_path = '../Data/Index_Data.xlsx'\n",
    "\n",
    "index_data = pd.ExcelFile(index_file_path)\n",
    "\n",
    "index_sheets = get_data_from_sheets(index_data)\n",
    "\n",
    "\n",
    "\n",
    "MF_file_path = '../Data/Mutual_Funds_Data.xlsx'\n",
    "\n",
    "MF_data = pd.ExcelFile(MF_file_path)\n",
    "\n",
    "MF_sheets = get_data_from_sheets(MF_data)\n",
    "\n",
    "\n",
    "\n",
    "GB_file_path = '../Data/Gold_Bond_Data.xlsx'\n",
    "\n",
    "GB_data = pd.ExcelFile(GB_file_path)\n",
    "\n",
    "GB_sheets = get_data_from_sheets(GB_data)"
   ]
  },
  {
   "cell_type": "code",
   "execution_count": 6,
   "metadata": {},
   "outputs": [
    {
     "data": {
      "text/plain": [
       "4263"
      ]
     },
     "execution_count": 6,
     "metadata": {},
     "output_type": "execute_result"
    }
   ],
   "source": [
    "len(index_sheets['NSEI'])"
   ]
  },
  {
   "cell_type": "code",
   "execution_count": 7,
   "metadata": {},
   "outputs": [
    {
     "data": {
      "text/plain": [
       "1309"
      ]
     },
     "execution_count": 7,
     "metadata": {},
     "output_type": "execute_result"
    }
   ],
   "source": [
    "index_sheets['NSEI'].isnull().sum().sum()"
   ]
  },
  {
   "cell_type": "markdown",
   "metadata": {},
   "source": [
    "## 1. Two Sample T-test\n",
    "\n",
    "### Null Hypothesis: The mean closing price of `NSEI` is equal to `BSESN`.\n",
    "### Alternative Hypothesis: The mean closing price of `NSEI` is not equal to `BSESN`."
   ]
  },
  {
   "cell_type": "code",
   "execution_count": 197,
   "metadata": {},
   "outputs": [],
   "source": [
    "NSEI = index_sheets['NSEI']\n",
    "BSESN = index_sheets['BSESN']"
   ]
  },
  {
   "cell_type": "code",
   "execution_count": 198,
   "metadata": {},
   "outputs": [
    {
     "name": "stdout",
     "output_type": "stream",
     "text": [
      "10058.400535247383\n",
      "23081.563106449936\n"
     ]
    }
   ],
   "source": [
    "print(NSEI['Close'].mean())\n",
    "print(BSESN['Close'].mean())"
   ]
  },
  {
   "cell_type": "code",
   "execution_count": 199,
   "metadata": {},
   "outputs": [
    {
     "name": "stdout",
     "output_type": "stream",
     "text": [
      "T-Statistic: -41.708434171845624, p-value: 0.0\n"
     ]
    }
   ],
   "source": [
    "t_stat, test1_p_val = ttest_ind(NSEI['Close'], BSESN['Close'])\n",
    "print(f\"T-Statistic: {t_stat}, p-value: {test1_p_val}\")"
   ]
  },
  {
   "cell_type": "code",
   "execution_count": 200,
   "metadata": {},
   "outputs": [],
   "source": [
    "def test_hypothesis(p_val):\n",
    "    if p_val < 0.05:\n",
    "        return \"Reject the null hypothesis.\"\n",
    "    else:\n",
    "        return \"Fail to reject the null hypothesis.\""
   ]
  },
  {
   "cell_type": "code",
   "execution_count": 201,
   "metadata": {},
   "outputs": [
    {
     "data": {
      "text/plain": [
       "'Reject the null hypothesis.'"
      ]
     },
     "execution_count": 201,
     "metadata": {},
     "output_type": "execute_result"
    }
   ],
   "source": [
    "test_hypothesis(test1_p_val)"
   ]
  },
  {
   "cell_type": "markdown",
   "metadata": {},
   "source": [
    "#### Here, we have rejected the null hypothesis.\n",
    "#### The mean closing price of `NSEI` is not equal to `BSESN`."
   ]
  },
  {
   "cell_type": "markdown",
   "metadata": {},
   "source": [
    "## 2. F-Test\n",
    "\n",
    "### Null Hypothesis: The variances of returns of `CNXIT` and `CNXAUTO` are equal.\n",
    "### Alternative Hypothesis: The variances of returns of `CNXIT` and `CNXAUTO` are not equal."
   ]
  },
  {
   "cell_type": "code",
   "execution_count": 202,
   "metadata": {},
   "outputs": [],
   "source": [
    "CNXIT = index_sheets['CNXIT']\n",
    "CNXAUTO = index_sheets['CNXAUTO']"
   ]
  },
  {
   "cell_type": "code",
   "execution_count": 203,
   "metadata": {},
   "outputs": [
    {
     "data": {
      "text/plain": [
       "Index(['Date', 'Open', 'High', 'Low', 'Close', 'Volume', 'Dividends',\n",
       "       'Stock Splits', 'Percent change in price', 'Percent change in volume'],\n",
       "      dtype='object')"
      ]
     },
     "execution_count": 203,
     "metadata": {},
     "output_type": "execute_result"
    }
   ],
   "source": [
    "CNXIT.columns"
   ]
  },
  {
   "cell_type": "code",
   "execution_count": 204,
   "metadata": {},
   "outputs": [
    {
     "name": "stdout",
     "output_type": "stream",
     "text": [
      "Degree of freedom 1: 3933\n",
      "Degree of freedom 2: 3285\n",
      "F-statistic: 95.59777839094477\n",
      "p_left: 0.9999999999999999 p_right: 0.0\n",
      "p-value: 0.0\n"
     ]
    }
   ],
   "source": [
    "CNXIT_variance = np.var(CNXIT['Percent change in price'], ddof=1)\n",
    "CNXAUTO_variance = np.var(CNXAUTO['Percent change in price'], ddof=1)\n",
    "\n",
    "f_value = CNXIT_variance / CNXAUTO_variance\n",
    "\n",
    "df1 = len(CNXIT['Percent change in price']) - 1\n",
    "df2 = len(CNXAUTO['Percent change in price']) - 1\n",
    "\n",
    "p_left = f.cdf(f_value, df1, df2) # cumulative distribution function (CDF)\n",
    "p_right = f.sf(f_value, df1, df2) # Survival function = 1 - cdf\n",
    "test2_p_val = 2 * min(p_left, p_right)\n",
    "\n",
    "print('Degree of freedom 1:',df1)\n",
    "print('Degree of freedom 2:',df2)\n",
    "print(\"F-statistic:\", f_value)\n",
    "print(\"p_left:\", p_left, \"p_right:\", p_right)\n",
    "print(\"p-value:\", test2_p_val)"
   ]
  },
  {
   "cell_type": "code",
   "execution_count": 205,
   "metadata": {},
   "outputs": [
    {
     "data": {
      "text/plain": [
       "'Reject the null hypothesis.'"
      ]
     },
     "execution_count": 205,
     "metadata": {},
     "output_type": "execute_result"
    }
   ],
   "source": [
    "test_hypothesis(test2_p_val)"
   ]
  },
  {
   "cell_type": "markdown",
   "metadata": {},
   "source": [
    "#### Here, we fail to reject the null hypothesis.\n",
    "\n",
    "#### We don't have enough evidence to prove that The variances of returns of `CNXIT` and `CNXAUTO` are not equal"
   ]
  },
  {
   "cell_type": "markdown",
   "metadata": {},
   "source": [
    "## 3. One-way ANOVA\n",
    "\n",
    "### Null Hypothesis: The mean returns of all mutual funds are the same.\n",
    "### Alternative Hypothesis: At least one mutual fund has a different mean return."
   ]
  },
  {
   "cell_type": "code",
   "execution_count": 206,
   "metadata": {},
   "outputs": [
    {
     "data": {
      "text/plain": [
       "[0.060463159249797525,\n",
       " 0.45537662198918805,\n",
       " 0.05625228038695368,\n",
       " 0.06721214091199408,\n",
       " 0.07837813127213038,\n",
       " 0.05425440269989836,\n",
       " 0.053091239265748026,\n",
       " 0.03980665090643376,\n",
       " 0.049481134074111845,\n",
       " 0.029237889760361204,\n",
       " 0.03162655856975783,\n",
       " 0.030434033572371375,\n",
       " 0.023289205645453715,\n",
       " 0.05856234610891682,\n",
       " 0.055558805363787794,\n",
       " 0.05608753081190579,\n",
       " 2.57033268641501,\n",
       " 0.011023274388856598]"
      ]
     },
     "execution_count": 206,
     "metadata": {},
     "output_type": "execute_result"
    }
   ],
   "source": [
    "MF_mean_return = [df['Percent change in price'].dropna().mean() * 100 for df in MF_sheets.values()]\n",
    "MF_mean_return"
   ]
  },
  {
   "cell_type": "code",
   "execution_count": 207,
   "metadata": {},
   "outputs": [
    {
     "name": "stdout",
     "output_type": "stream",
     "text": [
      "F-Statistic: 0.4364619233562838, p-value: 0.9774192046172121\n"
     ]
    }
   ],
   "source": [
    "f_stat, test3_p_val = f_oneway(\n",
    "    *[df['Percent change in price'].dropna() for df in MF_sheets.values()]\n",
    ")\n",
    "print(f\"F-Statistic: {f_stat}, p-value: {test3_p_val}\")"
   ]
  },
  {
   "cell_type": "code",
   "execution_count": 208,
   "metadata": {},
   "outputs": [
    {
     "data": {
      "text/plain": [
       "'Fail to reject the null hypothesis.'"
      ]
     },
     "execution_count": 208,
     "metadata": {},
     "output_type": "execute_result"
    }
   ],
   "source": [
    "test_hypothesis(test3_p_val)"
   ]
  },
  {
   "cell_type": "markdown",
   "metadata": {},
   "source": [
    "#### Here. we fail to reject the null hypothesis.\n",
    "\n",
    "#### Because of not having sufficient evidences, we are not able to prove that At least one mutual fund has a different mean return."
   ]
  },
  {
   "cell_type": "markdown",
   "metadata": {},
   "source": [
    "## 4. Chi-Square Test\n",
    "\n",
    "### Null Hypothesis: Gold bond returns are independent of market conditions (e.g., bearish or bullish).\n",
    "### Alternative Hypothesis: Gold bond returns are not independent of market conditions."
   ]
  },
  {
   "cell_type": "code",
   "execution_count": 209,
   "metadata": {},
   "outputs": [],
   "source": [
    "GoldBond = GB_sheets['Gold Bond']"
   ]
  },
  {
   "cell_type": "code",
   "execution_count": 210,
   "metadata": {},
   "outputs": [],
   "source": [
    "GoldBond['Gold_Return_Category'] = GoldBond['Percent change in price'].apply(\n",
    "    lambda x: 'Positive' if x > 0 else 'Negative'\n",
    ")\n",
    "\n",
    "NSEI['Market_Condition'] = NSEI['Percent change in price'].apply(\n",
    "    lambda x: 'Bullish' if x > 0.005 else ('Bearish' if x < -0.005 else 'Neutral')\n",
    ")"
   ]
  },
  {
   "cell_type": "code",
   "execution_count": 211,
   "metadata": {},
   "outputs": [
    {
     "data": {
      "text/html": [
       "<div>\n",
       "<style scoped>\n",
       "    .dataframe tbody tr th:only-of-type {\n",
       "        vertical-align: middle;\n",
       "    }\n",
       "\n",
       "    .dataframe tbody tr th {\n",
       "        vertical-align: top;\n",
       "    }\n",
       "\n",
       "    .dataframe thead th {\n",
       "        text-align: right;\n",
       "    }\n",
       "</style>\n",
       "<table border=\"1\" class=\"dataframe\">\n",
       "  <thead>\n",
       "    <tr style=\"text-align: right;\">\n",
       "      <th></th>\n",
       "      <th>Date</th>\n",
       "      <th>series</th>\n",
       "      <th>OPEN</th>\n",
       "      <th>HIGH</th>\n",
       "      <th>LOW</th>\n",
       "      <th>PREV. CLOSE</th>\n",
       "      <th>ltp</th>\n",
       "      <th>close</th>\n",
       "      <th>vwap</th>\n",
       "      <th>52W H</th>\n",
       "      <th>52W L</th>\n",
       "      <th>VOLUME</th>\n",
       "      <th>VALUE</th>\n",
       "      <th>No of trades</th>\n",
       "      <th>Percent change in price</th>\n",
       "      <th>Percent change in volume</th>\n",
       "      <th>Gold_Return_Category</th>\n",
       "    </tr>\n",
       "  </thead>\n",
       "  <tbody>\n",
       "    <tr>\n",
       "      <th>0</th>\n",
       "      <td>2019-12-30</td>\n",
       "      <td>GB</td>\n",
       "      <td>3700.00</td>\n",
       "      <td>3700.00</td>\n",
       "      <td>3700.00</td>\n",
       "      <td>3599.50</td>\n",
       "      <td>3700.00</td>\n",
       "      <td>3700.00</td>\n",
       "      <td>3700.00</td>\n",
       "      <td>3840.0</td>\n",
       "      <td>2725.00</td>\n",
       "      <td>6</td>\n",
       "      <td>22200.00</td>\n",
       "      <td>1</td>\n",
       "      <td>NaN</td>\n",
       "      <td>NaN</td>\n",
       "      <td>Negative</td>\n",
       "    </tr>\n",
       "    <tr>\n",
       "      <th>1</th>\n",
       "      <td>2019-12-23</td>\n",
       "      <td>GB</td>\n",
       "      <td>3750.00</td>\n",
       "      <td>3750.00</td>\n",
       "      <td>3599.00</td>\n",
       "      <td>3589.00</td>\n",
       "      <td>3599.00</td>\n",
       "      <td>3599.50</td>\n",
       "      <td>3616.33</td>\n",
       "      <td>3840.0</td>\n",
       "      <td>2655.29</td>\n",
       "      <td>45</td>\n",
       "      <td>162735.00</td>\n",
       "      <td>5</td>\n",
       "      <td>-0.027162</td>\n",
       "      <td>6.500000</td>\n",
       "      <td>Negative</td>\n",
       "    </tr>\n",
       "    <tr>\n",
       "      <th>2</th>\n",
       "      <td>2019-12-17</td>\n",
       "      <td>GB</td>\n",
       "      <td>3590.00</td>\n",
       "      <td>3590.00</td>\n",
       "      <td>3589.00</td>\n",
       "      <td>3580.05</td>\n",
       "      <td>3589.00</td>\n",
       "      <td>3589.00</td>\n",
       "      <td>3589.40</td>\n",
       "      <td>3840.0</td>\n",
       "      <td>2655.29</td>\n",
       "      <td>25</td>\n",
       "      <td>89735.00</td>\n",
       "      <td>3</td>\n",
       "      <td>-0.002917</td>\n",
       "      <td>-0.444444</td>\n",
       "      <td>Negative</td>\n",
       "    </tr>\n",
       "    <tr>\n",
       "      <th>3</th>\n",
       "      <td>2019-12-16</td>\n",
       "      <td>GB</td>\n",
       "      <td>3580.05</td>\n",
       "      <td>3580.05</td>\n",
       "      <td>3580.05</td>\n",
       "      <td>3580.00</td>\n",
       "      <td>3580.05</td>\n",
       "      <td>3580.05</td>\n",
       "      <td>3580.05</td>\n",
       "      <td>3840.0</td>\n",
       "      <td>2655.29</td>\n",
       "      <td>1</td>\n",
       "      <td>3580.05</td>\n",
       "      <td>1</td>\n",
       "      <td>-0.002494</td>\n",
       "      <td>-0.960000</td>\n",
       "      <td>Negative</td>\n",
       "    </tr>\n",
       "    <tr>\n",
       "      <th>4</th>\n",
       "      <td>2019-12-12</td>\n",
       "      <td>GB</td>\n",
       "      <td>3562.00</td>\n",
       "      <td>3580.00</td>\n",
       "      <td>3562.00</td>\n",
       "      <td>3585.00</td>\n",
       "      <td>3580.00</td>\n",
       "      <td>3580.00</td>\n",
       "      <td>3565.00</td>\n",
       "      <td>3840.0</td>\n",
       "      <td>2655.29</td>\n",
       "      <td>6</td>\n",
       "      <td>21390.00</td>\n",
       "      <td>2</td>\n",
       "      <td>-0.000014</td>\n",
       "      <td>5.000000</td>\n",
       "      <td>Negative</td>\n",
       "    </tr>\n",
       "  </tbody>\n",
       "</table>\n",
       "</div>"
      ],
      "text/plain": [
       "        Date series     OPEN     HIGH      LOW  PREV. CLOSE      ltp    close  \\\n",
       "0 2019-12-30     GB  3700.00  3700.00  3700.00      3599.50  3700.00  3700.00   \n",
       "1 2019-12-23     GB  3750.00  3750.00  3599.00      3589.00  3599.00  3599.50   \n",
       "2 2019-12-17     GB  3590.00  3590.00  3589.00      3580.05  3589.00  3589.00   \n",
       "3 2019-12-16     GB  3580.05  3580.05  3580.05      3580.00  3580.05  3580.05   \n",
       "4 2019-12-12     GB  3562.00  3580.00  3562.00      3585.00  3580.00  3580.00   \n",
       "\n",
       "      vwap   52W H    52W L  VOLUME      VALUE  No of trades  \\\n",
       "0  3700.00  3840.0  2725.00       6   22200.00             1   \n",
       "1  3616.33  3840.0  2655.29      45  162735.00             5   \n",
       "2  3589.40  3840.0  2655.29      25   89735.00             3   \n",
       "3  3580.05  3840.0  2655.29       1    3580.05             1   \n",
       "4  3565.00  3840.0  2655.29       6   21390.00             2   \n",
       "\n",
       "   Percent change in price  Percent change in volume Gold_Return_Category  \n",
       "0                      NaN                       NaN             Negative  \n",
       "1                -0.027162                  6.500000             Negative  \n",
       "2                -0.002917                 -0.444444             Negative  \n",
       "3                -0.002494                 -0.960000             Negative  \n",
       "4                -0.000014                  5.000000             Negative  "
      ]
     },
     "execution_count": 211,
     "metadata": {},
     "output_type": "execute_result"
    }
   ],
   "source": [
    "GoldBond.head()"
   ]
  },
  {
   "cell_type": "code",
   "execution_count": 212,
   "metadata": {},
   "outputs": [
    {
     "data": {
      "text/html": [
       "<div>\n",
       "<style scoped>\n",
       "    .dataframe tbody tr th:only-of-type {\n",
       "        vertical-align: middle;\n",
       "    }\n",
       "\n",
       "    .dataframe tbody tr th {\n",
       "        vertical-align: top;\n",
       "    }\n",
       "\n",
       "    .dataframe thead th {\n",
       "        text-align: right;\n",
       "    }\n",
       "</style>\n",
       "<table border=\"1\" class=\"dataframe\">\n",
       "  <thead>\n",
       "    <tr style=\"text-align: right;\">\n",
       "      <th></th>\n",
       "      <th>Date</th>\n",
       "      <th>series</th>\n",
       "      <th>OPEN</th>\n",
       "      <th>HIGH</th>\n",
       "      <th>LOW</th>\n",
       "      <th>PREV. CLOSE</th>\n",
       "      <th>ltp</th>\n",
       "      <th>close</th>\n",
       "      <th>vwap</th>\n",
       "      <th>52W H</th>\n",
       "      <th>52W L</th>\n",
       "      <th>VOLUME</th>\n",
       "      <th>VALUE</th>\n",
       "      <th>No of trades</th>\n",
       "      <th>Percent change in price</th>\n",
       "      <th>Percent change in volume</th>\n",
       "      <th>Gold_Return_Category</th>\n",
       "    </tr>\n",
       "  </thead>\n",
       "  <tbody>\n",
       "    <tr>\n",
       "      <th>678</th>\n",
       "      <td>2024-01-15</td>\n",
       "      <td>GB</td>\n",
       "      <td>6240.01</td>\n",
       "      <td>6400.0</td>\n",
       "      <td>6240.01</td>\n",
       "      <td>6220.0</td>\n",
       "      <td>6400.0</td>\n",
       "      <td>6400.0</td>\n",
       "      <td>6293.34</td>\n",
       "      <td>6400.0</td>\n",
       "      <td>5360.0</td>\n",
       "      <td>6</td>\n",
       "      <td>37760.04</td>\n",
       "      <td>2</td>\n",
       "      <td>0.024000</td>\n",
       "      <td>-0.943925</td>\n",
       "      <td>Positive</td>\n",
       "    </tr>\n",
       "    <tr>\n",
       "      <th>679</th>\n",
       "      <td>2024-01-11</td>\n",
       "      <td>GB</td>\n",
       "      <td>6220.00</td>\n",
       "      <td>6220.0</td>\n",
       "      <td>6220.00</td>\n",
       "      <td>6275.0</td>\n",
       "      <td>6220.0</td>\n",
       "      <td>6220.0</td>\n",
       "      <td>6220.00</td>\n",
       "      <td>6340.0</td>\n",
       "      <td>5360.0</td>\n",
       "      <td>5</td>\n",
       "      <td>31100.00</td>\n",
       "      <td>1</td>\n",
       "      <td>-0.028125</td>\n",
       "      <td>-0.166667</td>\n",
       "      <td>Negative</td>\n",
       "    </tr>\n",
       "    <tr>\n",
       "      <th>680</th>\n",
       "      <td>2024-01-09</td>\n",
       "      <td>GB</td>\n",
       "      <td>6275.00</td>\n",
       "      <td>6275.0</td>\n",
       "      <td>6275.00</td>\n",
       "      <td>6275.0</td>\n",
       "      <td>6275.0</td>\n",
       "      <td>6275.0</td>\n",
       "      <td>6275.00</td>\n",
       "      <td>6340.0</td>\n",
       "      <td>5360.0</td>\n",
       "      <td>20</td>\n",
       "      <td>125500.00</td>\n",
       "      <td>2</td>\n",
       "      <td>0.008842</td>\n",
       "      <td>3.000000</td>\n",
       "      <td>Positive</td>\n",
       "    </tr>\n",
       "    <tr>\n",
       "      <th>681</th>\n",
       "      <td>2024-01-08</td>\n",
       "      <td>GB</td>\n",
       "      <td>6275.00</td>\n",
       "      <td>6275.0</td>\n",
       "      <td>6275.00</td>\n",
       "      <td>6340.0</td>\n",
       "      <td>6275.0</td>\n",
       "      <td>6275.0</td>\n",
       "      <td>6275.00</td>\n",
       "      <td>6340.0</td>\n",
       "      <td>5360.0</td>\n",
       "      <td>4</td>\n",
       "      <td>25100.00</td>\n",
       "      <td>2</td>\n",
       "      <td>0.000000</td>\n",
       "      <td>-0.800000</td>\n",
       "      <td>Negative</td>\n",
       "    </tr>\n",
       "    <tr>\n",
       "      <th>682</th>\n",
       "      <td>2024-01-05</td>\n",
       "      <td>GB</td>\n",
       "      <td>6340.00</td>\n",
       "      <td>6340.0</td>\n",
       "      <td>6340.00</td>\n",
       "      <td>6340.0</td>\n",
       "      <td>6340.0</td>\n",
       "      <td>6340.0</td>\n",
       "      <td>6340.00</td>\n",
       "      <td>6340.0</td>\n",
       "      <td>5300.0</td>\n",
       "      <td>9</td>\n",
       "      <td>57060.00</td>\n",
       "      <td>2</td>\n",
       "      <td>0.010359</td>\n",
       "      <td>1.250000</td>\n",
       "      <td>Positive</td>\n",
       "    </tr>\n",
       "  </tbody>\n",
       "</table>\n",
       "</div>"
      ],
      "text/plain": [
       "          Date series     OPEN    HIGH      LOW  PREV. CLOSE     ltp   close  \\\n",
       "678 2024-01-15     GB  6240.01  6400.0  6240.01       6220.0  6400.0  6400.0   \n",
       "679 2024-01-11     GB  6220.00  6220.0  6220.00       6275.0  6220.0  6220.0   \n",
       "680 2024-01-09     GB  6275.00  6275.0  6275.00       6275.0  6275.0  6275.0   \n",
       "681 2024-01-08     GB  6275.00  6275.0  6275.00       6340.0  6275.0  6275.0   \n",
       "682 2024-01-05     GB  6340.00  6340.0  6340.00       6340.0  6340.0  6340.0   \n",
       "\n",
       "        vwap   52W H   52W L  VOLUME      VALUE  No of trades  \\\n",
       "678  6293.34  6400.0  5360.0       6   37760.04             2   \n",
       "679  6220.00  6340.0  5360.0       5   31100.00             1   \n",
       "680  6275.00  6340.0  5360.0      20  125500.00             2   \n",
       "681  6275.00  6340.0  5360.0       4   25100.00             2   \n",
       "682  6340.00  6340.0  5300.0       9   57060.00             2   \n",
       "\n",
       "     Percent change in price  Percent change in volume Gold_Return_Category  \n",
       "678                 0.024000                 -0.943925             Positive  \n",
       "679                -0.028125                 -0.166667             Negative  \n",
       "680                 0.008842                  3.000000             Positive  \n",
       "681                 0.000000                 -0.800000             Negative  \n",
       "682                 0.010359                  1.250000             Positive  "
      ]
     },
     "execution_count": 212,
     "metadata": {},
     "output_type": "execute_result"
    }
   ],
   "source": [
    "GoldBond.tail()"
   ]
  },
  {
   "cell_type": "code",
   "execution_count": 213,
   "metadata": {},
   "outputs": [
    {
     "data": {
      "text/html": [
       "<div>\n",
       "<style scoped>\n",
       "    .dataframe tbody tr th:only-of-type {\n",
       "        vertical-align: middle;\n",
       "    }\n",
       "\n",
       "    .dataframe tbody tr th {\n",
       "        vertical-align: top;\n",
       "    }\n",
       "\n",
       "    .dataframe thead th {\n",
       "        text-align: right;\n",
       "    }\n",
       "</style>\n",
       "<table border=\"1\" class=\"dataframe\">\n",
       "  <thead>\n",
       "    <tr style=\"text-align: right;\">\n",
       "      <th></th>\n",
       "      <th>Date</th>\n",
       "      <th>Open</th>\n",
       "      <th>High</th>\n",
       "      <th>Low</th>\n",
       "      <th>Close</th>\n",
       "      <th>Volume</th>\n",
       "      <th>Dividends</th>\n",
       "      <th>Stock Splits</th>\n",
       "      <th>Percent change in price</th>\n",
       "      <th>Percent change in volume</th>\n",
       "      <th>Market_Condition</th>\n",
       "    </tr>\n",
       "  </thead>\n",
       "  <tbody>\n",
       "    <tr>\n",
       "      <th>4217</th>\n",
       "      <td>2024-12-02 00:00:00+05:30</td>\n",
       "      <td>24140.849609</td>\n",
       "      <td>24301.699219</td>\n",
       "      <td>24008.650391</td>\n",
       "      <td>24276.050781</td>\n",
       "      <td>220400</td>\n",
       "      <td>0</td>\n",
       "      <td>0</td>\n",
       "      <td>0.006007</td>\n",
       "      <td>-0.218717</td>\n",
       "      <td>Bullish</td>\n",
       "    </tr>\n",
       "    <tr>\n",
       "      <th>4218</th>\n",
       "      <td>2024-12-03 00:00:00+05:30</td>\n",
       "      <td>24367.500000</td>\n",
       "      <td>24481.349609</td>\n",
       "      <td>24280.000000</td>\n",
       "      <td>24457.150391</td>\n",
       "      <td>339500</td>\n",
       "      <td>0</td>\n",
       "      <td>0</td>\n",
       "      <td>0.007460</td>\n",
       "      <td>0.540381</td>\n",
       "      <td>Bullish</td>\n",
       "    </tr>\n",
       "    <tr>\n",
       "      <th>4219</th>\n",
       "      <td>2024-12-04 00:00:00+05:30</td>\n",
       "      <td>24488.750000</td>\n",
       "      <td>24573.199219</td>\n",
       "      <td>24366.300781</td>\n",
       "      <td>24467.449219</td>\n",
       "      <td>348000</td>\n",
       "      <td>0</td>\n",
       "      <td>0</td>\n",
       "      <td>0.000421</td>\n",
       "      <td>0.025037</td>\n",
       "      <td>Neutral</td>\n",
       "    </tr>\n",
       "    <tr>\n",
       "      <th>4220</th>\n",
       "      <td>2024-12-05 00:00:00+05:30</td>\n",
       "      <td>24539.150391</td>\n",
       "      <td>24857.750000</td>\n",
       "      <td>24295.550781</td>\n",
       "      <td>24708.400391</td>\n",
       "      <td>361500</td>\n",
       "      <td>0</td>\n",
       "      <td>0</td>\n",
       "      <td>0.009848</td>\n",
       "      <td>0.038793</td>\n",
       "      <td>Bullish</td>\n",
       "    </tr>\n",
       "    <tr>\n",
       "      <th>4221</th>\n",
       "      <td>2024-12-06 00:00:00+05:30</td>\n",
       "      <td>24729.449219</td>\n",
       "      <td>24751.050781</td>\n",
       "      <td>24620.500000</td>\n",
       "      <td>24677.800781</td>\n",
       "      <td>0</td>\n",
       "      <td>0</td>\n",
       "      <td>0</td>\n",
       "      <td>-0.001238</td>\n",
       "      <td>-1.000000</td>\n",
       "      <td>Neutral</td>\n",
       "    </tr>\n",
       "  </tbody>\n",
       "</table>\n",
       "</div>"
      ],
      "text/plain": [
       "                           Date          Open          High           Low  \\\n",
       "4217  2024-12-02 00:00:00+05:30  24140.849609  24301.699219  24008.650391   \n",
       "4218  2024-12-03 00:00:00+05:30  24367.500000  24481.349609  24280.000000   \n",
       "4219  2024-12-04 00:00:00+05:30  24488.750000  24573.199219  24366.300781   \n",
       "4220  2024-12-05 00:00:00+05:30  24539.150391  24857.750000  24295.550781   \n",
       "4221  2024-12-06 00:00:00+05:30  24729.449219  24751.050781  24620.500000   \n",
       "\n",
       "             Close  Volume  Dividends  Stock Splits  Percent change in price  \\\n",
       "4217  24276.050781  220400          0             0                 0.006007   \n",
       "4218  24457.150391  339500          0             0                 0.007460   \n",
       "4219  24467.449219  348000          0             0                 0.000421   \n",
       "4220  24708.400391  361500          0             0                 0.009848   \n",
       "4221  24677.800781       0          0             0                -0.001238   \n",
       "\n",
       "      Percent change in volume Market_Condition  \n",
       "4217                 -0.218717          Bullish  \n",
       "4218                  0.540381          Bullish  \n",
       "4219                  0.025037          Neutral  \n",
       "4220                  0.038793          Bullish  \n",
       "4221                 -1.000000          Neutral  "
      ]
     },
     "execution_count": 213,
     "metadata": {},
     "output_type": "execute_result"
    }
   ],
   "source": [
    "NSEI.tail()"
   ]
  },
  {
   "cell_type": "code",
   "execution_count": 214,
   "metadata": {},
   "outputs": [],
   "source": [
    "NSEI['Date'] = pd.to_datetime(NSEI['Date'])\n",
    "NSEI['Date'] = NSEI['Date'].dt.tz_localize(None)"
   ]
  },
  {
   "cell_type": "code",
   "execution_count": 215,
   "metadata": {},
   "outputs": [
    {
     "name": "stdout",
     "output_type": "stream",
     "text": [
      "Market_Condition      Bearish  Bullish  Neutral\n",
      "Gold_Return_Category                           \n",
      "Negative                  101      139      195\n",
      "Positive                   50       77      117\n"
     ]
    }
   ],
   "source": [
    "merged_data = pd.merge(GoldBond[['Date', 'Gold_Return_Category']],\n",
    "                       NSEI[['Date', 'Market_Condition']],\n",
    "                       on='Date')\n",
    "\n",
    "contingency_table = pd.crosstab(merged_data['Gold_Return_Category'], \n",
    "                                merged_data['Market_Condition'])\n",
    "print(contingency_table)"
   ]
  },
  {
   "cell_type": "code",
   "execution_count": 216,
   "metadata": {},
   "outputs": [
    {
     "name": "stdout",
     "output_type": "stream",
     "text": [
      "Chi-Square Statistic: 0.8621403265313069, p-value: 0.6498133161509081\n"
     ]
    }
   ],
   "source": [
    "chi2, test4_p_val, dof, expected = chi2_contingency(contingency_table)\n",
    "print(f\"Chi-Square Statistic: {chi2}, p-value: {test4_p_val}\")"
   ]
  },
  {
   "cell_type": "code",
   "execution_count": 217,
   "metadata": {},
   "outputs": [
    {
     "data": {
      "text/plain": [
       "'Fail to reject the null hypothesis.'"
      ]
     },
     "execution_count": 217,
     "metadata": {},
     "output_type": "execute_result"
    }
   ],
   "source": [
    "test_hypothesis(test4_p_val)"
   ]
  },
  {
   "cell_type": "markdown",
   "metadata": {},
   "source": [
    "#### From p value of the test, we get to know that we fail to reject the null hypothesis.\n",
    "\n",
    "#### We don't have sufficient evidences to justify that Gold bond returns are not independent of market conditions."
   ]
  }
 ],
 "metadata": {
  "kernelspec": {
   "display_name": "Python 3",
   "language": "python",
   "name": "python3"
  },
  "language_info": {
   "codemirror_mode": {
    "name": "ipython",
    "version": 3
   },
   "file_extension": ".py",
   "mimetype": "text/x-python",
   "name": "python",
   "nbconvert_exporter": "python",
   "pygments_lexer": "ipython3",
   "version": "3.8.16"
  }
 },
 "nbformat": 4,
 "nbformat_minor": 2
}
