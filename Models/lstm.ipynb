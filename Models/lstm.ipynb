{
 "cells": [
  {
   "cell_type": "code",
   "execution_count": 19,
   "metadata": {},
   "outputs": [],
   "source": [
    "import warnings\n",
    "warnings.filterwarnings(\"ignore\")\n",
    "\n",
    "import numpy as np\n",
    "import pandas as pd\n",
    "import matplotlib.pyplot as plt\n",
    "from sklearn.preprocessing import StandardScaler\n",
    "import tensorflow as tf\n",
    "from tensorflow.keras.models import Model\n",
    "from tensorflow.keras.layers import Input, LSTM, Dense, Dropout, BatchNormalization, Bidirectional, LayerNormalization, LeakyReLU\n",
    "from tensorflow.keras.optimizers import Adam\n",
    "from tensorflow.keras.callbacks import EarlyStopping\n",
    "from tensorflow.keras.regularizers import l1_l2, l2\n",
    "from tensorflow.keras.callbacks import ReduceLROnPlateau\n",
    "from tensorflow.keras.initializers import HeNormal, GlorotUniform\n",
    "from tensorflow.keras.optimizers.schedules import ExponentialDecay\n",
    "from scikeras.wrappers import KerasRegressor\n",
    "from sklearn.model_selection import GridSearchCV\n",
    "import tensorflow.keras.backend as K"
   ]
  },
  {
   "cell_type": "markdown",
   "metadata": {},
   "source": [
    "# 1. Preprocessing"
   ]
  },
  {
   "cell_type": "markdown",
   "metadata": {},
   "source": [
    "### Data Gathering"
   ]
  },
  {
   "cell_type": "code",
   "execution_count": 20,
   "metadata": {},
   "outputs": [],
   "source": [
    "indexes = []\n",
    "all_indexes = {}"
   ]
  },
  {
   "cell_type": "code",
   "execution_count": 21,
   "metadata": {},
   "outputs": [],
   "source": [
    "index_excel_file = '../Data/Index_Data.xlsx'\n",
    "all_indexes = pd.read_excel(index_excel_file, sheet_name=None)\n",
    "\n",
    "for sheet_name, df in all_indexes.items():\n",
    "    indexes.append(sheet_name)\n",
    "    all_indexes[sheet_name] = df"
   ]
  },
  {
   "cell_type": "code",
   "execution_count": 22,
   "metadata": {},
   "outputs": [
    {
     "data": {
      "application/vnd.microsoft.datawrangler.viewer.v0+json": {
       "columns": [
        {
         "name": "index",
         "rawType": "int64",
         "type": "integer"
        },
        {
         "name": "Date",
         "rawType": "object",
         "type": "string"
        },
        {
         "name": "Open",
         "rawType": "float64",
         "type": "float"
        },
        {
         "name": "High",
         "rawType": "float64",
         "type": "float"
        },
        {
         "name": "Low",
         "rawType": "float64",
         "type": "float"
        },
        {
         "name": "Close",
         "rawType": "float64",
         "type": "float"
        },
        {
         "name": "Volume",
         "rawType": "int64",
         "type": "integer"
        },
        {
         "name": "Dividends",
         "rawType": "int64",
         "type": "integer"
        },
        {
         "name": "Stock_Splits",
         "rawType": "int64",
         "type": "integer"
        },
        {
         "name": "Percent_Change_In_Price",
         "rawType": "float64",
         "type": "float"
        },
        {
         "name": "Momentum_Indicator",
         "rawType": "float64",
         "type": "float"
        },
        {
         "name": "High_Low_Change",
         "rawType": "float64",
         "type": "float"
        },
        {
         "name": "High_Open_Change",
         "rawType": "float64",
         "type": "float"
        },
        {
         "name": "Low_Open_Change",
         "rawType": "float64",
         "type": "float"
        },
        {
         "name": "Day",
         "rawType": "int64",
         "type": "integer"
        },
        {
         "name": "Month",
         "rawType": "int64",
         "type": "integer"
        },
        {
         "name": "Year",
         "rawType": "int64",
         "type": "integer"
        }
       ],
       "conversionMethod": "pd.DataFrame",
       "ref": "87718e45-a753-45c4-92fc-568683469869",
       "rows": [
        [
         "6803",
         "2025-02-11 00:00:00+05:30",
         "77384.9765625",
         "77387.28125",
         "76030.59375",
         "76293.6015625",
         "9800",
         "0",
         "0",
         "-0.01316998638831601",
         "-0.01410318964325783",
         "0.01784396823811467",
         "2.978210503350891e-05",
         "-0.01750188308716657",
         "11",
         "2",
         "2025"
        ],
        [
         "6804",
         "2025-02-12 00:00:00+05:30",
         "76188.2421875",
         "76459.71875",
         "75388.390625",
         "76171.078125",
         "10400",
         "0",
         "0",
         "-0.001605946435752292",
         "-0.0002252849259569354",
         "0.01421078386364611",
         "0.003563234361437209",
         "-0.01049835958324852",
         "12",
         "2",
         "2025"
        ],
        [
         "6805",
         "2025-02-13 00:00:00+05:30",
         "76201.1015625",
         "76764.53125",
         "76013.4296875",
         "76138.96875",
         "6900",
         "0",
         "0",
         "-0.0004215428715254044",
         "-0.0008153794528683917",
         "0.00988116923006718",
         "0.007393983498229039",
         "-0.002462849895235069",
         "13",
         "2",
         "2025"
        ],
        [
         "6806",
         "2025-02-14 00:00:00+05:30",
         "76388.9921875",
         "76483.0625",
         "75439.640625",
         "75939.2109375",
         "9300",
         "0",
         "0",
         "-0.002623594931471906",
         "-0.005888037492312937",
         "0.01383121481432693",
         "0.001231464243815398",
         "-0.0124278581941463",
         "14",
         "2",
         "2025"
        ],
        [
         "6807",
         "2025-02-17 00:00:00+05:30",
         "75641.40625",
         "76041.9609375",
         "75294.7578125",
         "75996.859375",
         "0",
         "0",
         "0",
         "0.0007591392745369685",
         "0.004699187159810372",
         "0.00992370713059062",
         "0.005295442104502122",
         "-0.004582786792121544",
         "17",
         "2",
         "2025"
        ]
       ],
       "shape": {
        "columns": 16,
        "rows": 5
       }
      },
      "text/html": [
       "<div>\n",
       "<style scoped>\n",
       "    .dataframe tbody tr th:only-of-type {\n",
       "        vertical-align: middle;\n",
       "    }\n",
       "\n",
       "    .dataframe tbody tr th {\n",
       "        vertical-align: top;\n",
       "    }\n",
       "\n",
       "    .dataframe thead th {\n",
       "        text-align: right;\n",
       "    }\n",
       "</style>\n",
       "<table border=\"1\" class=\"dataframe\">\n",
       "  <thead>\n",
       "    <tr style=\"text-align: right;\">\n",
       "      <th></th>\n",
       "      <th>Date</th>\n",
       "      <th>Open</th>\n",
       "      <th>High</th>\n",
       "      <th>Low</th>\n",
       "      <th>Close</th>\n",
       "      <th>Volume</th>\n",
       "      <th>Dividends</th>\n",
       "      <th>Stock_Splits</th>\n",
       "      <th>Percent_Change_In_Price</th>\n",
       "      <th>Momentum_Indicator</th>\n",
       "      <th>High_Low_Change</th>\n",
       "      <th>High_Open_Change</th>\n",
       "      <th>Low_Open_Change</th>\n",
       "      <th>Day</th>\n",
       "      <th>Month</th>\n",
       "      <th>Year</th>\n",
       "    </tr>\n",
       "  </thead>\n",
       "  <tbody>\n",
       "    <tr>\n",
       "      <th>6803</th>\n",
       "      <td>2025-02-11 00:00:00+05:30</td>\n",
       "      <td>77384.976562</td>\n",
       "      <td>77387.281250</td>\n",
       "      <td>76030.593750</td>\n",
       "      <td>76293.601562</td>\n",
       "      <td>9800</td>\n",
       "      <td>0</td>\n",
       "      <td>0</td>\n",
       "      <td>-0.013170</td>\n",
       "      <td>-0.014103</td>\n",
       "      <td>0.017844</td>\n",
       "      <td>0.000030</td>\n",
       "      <td>-0.017502</td>\n",
       "      <td>11</td>\n",
       "      <td>2</td>\n",
       "      <td>2025</td>\n",
       "    </tr>\n",
       "    <tr>\n",
       "      <th>6804</th>\n",
       "      <td>2025-02-12 00:00:00+05:30</td>\n",
       "      <td>76188.242188</td>\n",
       "      <td>76459.718750</td>\n",
       "      <td>75388.390625</td>\n",
       "      <td>76171.078125</td>\n",
       "      <td>10400</td>\n",
       "      <td>0</td>\n",
       "      <td>0</td>\n",
       "      <td>-0.001606</td>\n",
       "      <td>-0.000225</td>\n",
       "      <td>0.014211</td>\n",
       "      <td>0.003563</td>\n",
       "      <td>-0.010498</td>\n",
       "      <td>12</td>\n",
       "      <td>2</td>\n",
       "      <td>2025</td>\n",
       "    </tr>\n",
       "    <tr>\n",
       "      <th>6805</th>\n",
       "      <td>2025-02-13 00:00:00+05:30</td>\n",
       "      <td>76201.101562</td>\n",
       "      <td>76764.531250</td>\n",
       "      <td>76013.429688</td>\n",
       "      <td>76138.968750</td>\n",
       "      <td>6900</td>\n",
       "      <td>0</td>\n",
       "      <td>0</td>\n",
       "      <td>-0.000422</td>\n",
       "      <td>-0.000815</td>\n",
       "      <td>0.009881</td>\n",
       "      <td>0.007394</td>\n",
       "      <td>-0.002463</td>\n",
       "      <td>13</td>\n",
       "      <td>2</td>\n",
       "      <td>2025</td>\n",
       "    </tr>\n",
       "    <tr>\n",
       "      <th>6806</th>\n",
       "      <td>2025-02-14 00:00:00+05:30</td>\n",
       "      <td>76388.992188</td>\n",
       "      <td>76483.062500</td>\n",
       "      <td>75439.640625</td>\n",
       "      <td>75939.210938</td>\n",
       "      <td>9300</td>\n",
       "      <td>0</td>\n",
       "      <td>0</td>\n",
       "      <td>-0.002624</td>\n",
       "      <td>-0.005888</td>\n",
       "      <td>0.013831</td>\n",
       "      <td>0.001231</td>\n",
       "      <td>-0.012428</td>\n",
       "      <td>14</td>\n",
       "      <td>2</td>\n",
       "      <td>2025</td>\n",
       "    </tr>\n",
       "    <tr>\n",
       "      <th>6807</th>\n",
       "      <td>2025-02-17 00:00:00+05:30</td>\n",
       "      <td>75641.406250</td>\n",
       "      <td>76041.960938</td>\n",
       "      <td>75294.757812</td>\n",
       "      <td>75996.859375</td>\n",
       "      <td>0</td>\n",
       "      <td>0</td>\n",
       "      <td>0</td>\n",
       "      <td>0.000759</td>\n",
       "      <td>0.004699</td>\n",
       "      <td>0.009924</td>\n",
       "      <td>0.005295</td>\n",
       "      <td>-0.004583</td>\n",
       "      <td>17</td>\n",
       "      <td>2</td>\n",
       "      <td>2025</td>\n",
       "    </tr>\n",
       "  </tbody>\n",
       "</table>\n",
       "</div>"
      ],
      "text/plain": [
       "                           Date          Open          High           Low  \\\n",
       "6803  2025-02-11 00:00:00+05:30  77384.976562  77387.281250  76030.593750   \n",
       "6804  2025-02-12 00:00:00+05:30  76188.242188  76459.718750  75388.390625   \n",
       "6805  2025-02-13 00:00:00+05:30  76201.101562  76764.531250  76013.429688   \n",
       "6806  2025-02-14 00:00:00+05:30  76388.992188  76483.062500  75439.640625   \n",
       "6807  2025-02-17 00:00:00+05:30  75641.406250  76041.960938  75294.757812   \n",
       "\n",
       "             Close  Volume  Dividends  Stock_Splits  Percent_Change_In_Price  \\\n",
       "6803  76293.601562    9800          0             0                -0.013170   \n",
       "6804  76171.078125   10400          0             0                -0.001606   \n",
       "6805  76138.968750    6900          0             0                -0.000422   \n",
       "6806  75939.210938    9300          0             0                -0.002624   \n",
       "6807  75996.859375       0          0             0                 0.000759   \n",
       "\n",
       "      Momentum_Indicator  High_Low_Change  High_Open_Change  Low_Open_Change  \\\n",
       "6803           -0.014103         0.017844          0.000030        -0.017502   \n",
       "6804           -0.000225         0.014211          0.003563        -0.010498   \n",
       "6805           -0.000815         0.009881          0.007394        -0.002463   \n",
       "6806           -0.005888         0.013831          0.001231        -0.012428   \n",
       "6807            0.004699         0.009924          0.005295        -0.004583   \n",
       "\n",
       "      Day  Month  Year  \n",
       "6803   11      2  2025  \n",
       "6804   12      2  2025  \n",
       "6805   13      2  2025  \n",
       "6806   14      2  2025  \n",
       "6807   17      2  2025  "
      ]
     },
     "execution_count": 22,
     "metadata": {},
     "output_type": "execute_result"
    }
   ],
   "source": [
    "BSESN = all_indexes['BSESN']\n",
    "BSESN.tail()"
   ]
  },
  {
   "cell_type": "code",
   "execution_count": 23,
   "metadata": {},
   "outputs": [
    {
     "data": {
      "text/plain": [
       "6808"
      ]
     },
     "execution_count": 23,
     "metadata": {},
     "output_type": "execute_result"
    }
   ],
   "source": [
    "len(BSESN)"
   ]
  },
  {
   "cell_type": "markdown",
   "metadata": {},
   "source": [
    "### Feature Engineering"
   ]
  },
  {
   "cell_type": "code",
   "execution_count": 24,
   "metadata": {},
   "outputs": [],
   "source": [
    "BSESN['Date'] = pd.to_datetime(BSESN['Date'])\n",
    "BSESN = BSESN.sort_values('Date').reset_index(drop=True)"
   ]
  },
  {
   "cell_type": "code",
   "execution_count": 25,
   "metadata": {},
   "outputs": [
    {
     "name": "stdout",
     "output_type": "stream",
     "text": [
      "<class 'pandas.core.frame.DataFrame'>\n",
      "RangeIndex: 6808 entries, 0 to 6807\n",
      "Data columns (total 16 columns):\n",
      " #   Column                   Non-Null Count  Dtype                                \n",
      "---  ------                   --------------  -----                                \n",
      " 0   Date                     6808 non-null   datetime64[ns, pytz.FixedOffset(330)]\n",
      " 1   Open                     6808 non-null   float64                              \n",
      " 2   High                     6808 non-null   float64                              \n",
      " 3   Low                      6808 non-null   float64                              \n",
      " 4   Close                    6808 non-null   float64                              \n",
      " 5   Volume                   6808 non-null   int64                                \n",
      " 6   Dividends                6808 non-null   int64                                \n",
      " 7   Stock_Splits             6808 non-null   int64                                \n",
      " 8   Percent_Change_In_Price  6807 non-null   float64                              \n",
      " 9   Momentum_Indicator       6808 non-null   float64                              \n",
      " 10  High_Low_Change          6808 non-null   float64                              \n",
      " 11  High_Open_Change         6808 non-null   float64                              \n",
      " 12  Low_Open_Change          6808 non-null   float64                              \n",
      " 13  Day                      6808 non-null   int64                                \n",
      " 14  Month                    6808 non-null   int64                                \n",
      " 15  Year                     6808 non-null   int64                                \n",
      "dtypes: datetime64[ns, pytz.FixedOffset(330)](1), float64(9), int64(6)\n",
      "memory usage: 851.1 KB\n"
     ]
    }
   ],
   "source": [
    "BSESN.info()"
   ]
  },
  {
   "cell_type": "code",
   "execution_count": 26,
   "metadata": {},
   "outputs": [],
   "source": [
    "def create_feature(df, final_df):\n",
    "    final_df['RSI'] = 100 - (100 / (1 + (df['Close'].diff().clip(lower=0).rolling(window=14).mean() / df['Close'].diff().clip(upper=0).abs().rolling(window=14).mean())))\n",
    "    final_df['Daily_Range'] = df['High'] - df['Low']\n",
    "    final_df['Close_Low_Ratio'] = (df['Close'] - df['Low']) / df['Low']\n",
    "    final_df['MACD'] = df['Close'].ewm(span=12, adjust=False).mean() - df['Close'].ewm(span=26, adjust=False).mean()\n",
    "    final_df['ATR'] = final_df['Daily_Range'].rolling(window=14).mean()\n",
    "    final_df['Rolling_Std_Dev'] = df['Close'].rolling(window=14).std()\n",
    "\n",
    "    return final_df"
   ]
  },
  {
   "cell_type": "code",
   "execution_count": 27,
   "metadata": {},
   "outputs": [
    {
     "data": {
      "application/vnd.microsoft.datawrangler.viewer.v0+json": {
       "columns": [
        {
         "name": "index",
         "rawType": "int64",
         "type": "integer"
        },
        {
         "name": "Day",
         "rawType": "int64",
         "type": "integer"
        },
        {
         "name": "Month",
         "rawType": "int64",
         "type": "integer"
        },
        {
         "name": "Year",
         "rawType": "int64",
         "type": "integer"
        },
        {
         "name": "Close",
         "rawType": "float64",
         "type": "float"
        },
        {
         "name": "RSI",
         "rawType": "float64",
         "type": "float"
        },
        {
         "name": "Daily_Range",
         "rawType": "float64",
         "type": "float"
        },
        {
         "name": "Close_Low_Ratio",
         "rawType": "float64",
         "type": "float"
        },
        {
         "name": "MACD",
         "rawType": "float64",
         "type": "float"
        },
        {
         "name": "ATR",
         "rawType": "float64",
         "type": "float"
        },
        {
         "name": "Rolling_Std_Dev",
         "rawType": "float64",
         "type": "float"
        }
       ],
       "conversionMethod": "pd.DataFrame",
       "ref": "bce4c633-2e89-4612-8d04-f9770bf15847",
       "rows": [
        [
         "6803",
         "11",
         "2",
         "2025",
         "76293.6015625",
         "49.24787994775566",
         "1356.6875",
         "0.0034592365984252227",
         "-163.97844245037413",
         "779.2522321428571",
         "956.5671862812784"
        ],
        [
         "6804",
         "12",
         "2",
         "2025",
         "76171.078125",
         "47.64373128492032",
         "1071.328125",
         "0.010382069354594344",
         "-237.4915906619135",
         "817.1026785714286",
         "975.0923980966437"
        ],
        [
         "6805",
         "13",
         "2",
         "2025",
         "76138.96875",
         "49.638114439513885",
         "751.1015625",
         "0.0016515379323904422",
         "-294.94233680301113",
         "806.8811383928571",
         "978.4686366801611"
        ],
        [
         "6806",
         "14",
         "2",
         "2025",
         "75939.2109375",
         "54.41485385340439",
         "1043.421875",
         "0.0066221194634700714",
         "-352.52753506964655",
         "834.40234375",
         "914.9959906668291"
        ],
        [
         "6807",
         "17",
         "2",
         "2025",
         "75996.859375",
         "50.793813736395116",
         "747.203125",
         "0.009324707096453947",
         "-389.0279998361657",
         "824.1969866071429",
         "906.2014083032822"
        ]
       ],
       "shape": {
        "columns": 10,
        "rows": 5
       }
      },
      "text/html": [
       "<div>\n",
       "<style scoped>\n",
       "    .dataframe tbody tr th:only-of-type {\n",
       "        vertical-align: middle;\n",
       "    }\n",
       "\n",
       "    .dataframe tbody tr th {\n",
       "        vertical-align: top;\n",
       "    }\n",
       "\n",
       "    .dataframe thead th {\n",
       "        text-align: right;\n",
       "    }\n",
       "</style>\n",
       "<table border=\"1\" class=\"dataframe\">\n",
       "  <thead>\n",
       "    <tr style=\"text-align: right;\">\n",
       "      <th></th>\n",
       "      <th>Day</th>\n",
       "      <th>Month</th>\n",
       "      <th>Year</th>\n",
       "      <th>Close</th>\n",
       "      <th>RSI</th>\n",
       "      <th>Daily_Range</th>\n",
       "      <th>Close_Low_Ratio</th>\n",
       "      <th>MACD</th>\n",
       "      <th>ATR</th>\n",
       "      <th>Rolling_Std_Dev</th>\n",
       "    </tr>\n",
       "  </thead>\n",
       "  <tbody>\n",
       "    <tr>\n",
       "      <th>6803</th>\n",
       "      <td>11</td>\n",
       "      <td>2</td>\n",
       "      <td>2025</td>\n",
       "      <td>76293.601562</td>\n",
       "      <td>49.247880</td>\n",
       "      <td>1356.687500</td>\n",
       "      <td>0.003459</td>\n",
       "      <td>-163.978442</td>\n",
       "      <td>779.252232</td>\n",
       "      <td>956.567186</td>\n",
       "    </tr>\n",
       "    <tr>\n",
       "      <th>6804</th>\n",
       "      <td>12</td>\n",
       "      <td>2</td>\n",
       "      <td>2025</td>\n",
       "      <td>76171.078125</td>\n",
       "      <td>47.643731</td>\n",
       "      <td>1071.328125</td>\n",
       "      <td>0.010382</td>\n",
       "      <td>-237.491591</td>\n",
       "      <td>817.102679</td>\n",
       "      <td>975.092398</td>\n",
       "    </tr>\n",
       "    <tr>\n",
       "      <th>6805</th>\n",
       "      <td>13</td>\n",
       "      <td>2</td>\n",
       "      <td>2025</td>\n",
       "      <td>76138.968750</td>\n",
       "      <td>49.638114</td>\n",
       "      <td>751.101562</td>\n",
       "      <td>0.001652</td>\n",
       "      <td>-294.942337</td>\n",
       "      <td>806.881138</td>\n",
       "      <td>978.468637</td>\n",
       "    </tr>\n",
       "    <tr>\n",
       "      <th>6806</th>\n",
       "      <td>14</td>\n",
       "      <td>2</td>\n",
       "      <td>2025</td>\n",
       "      <td>75939.210938</td>\n",
       "      <td>54.414854</td>\n",
       "      <td>1043.421875</td>\n",
       "      <td>0.006622</td>\n",
       "      <td>-352.527535</td>\n",
       "      <td>834.402344</td>\n",
       "      <td>914.995991</td>\n",
       "    </tr>\n",
       "    <tr>\n",
       "      <th>6807</th>\n",
       "      <td>17</td>\n",
       "      <td>2</td>\n",
       "      <td>2025</td>\n",
       "      <td>75996.859375</td>\n",
       "      <td>50.793814</td>\n",
       "      <td>747.203125</td>\n",
       "      <td>0.009325</td>\n",
       "      <td>-389.028000</td>\n",
       "      <td>824.196987</td>\n",
       "      <td>906.201408</td>\n",
       "    </tr>\n",
       "  </tbody>\n",
       "</table>\n",
       "</div>"
      ],
      "text/plain": [
       "      Day  Month  Year         Close        RSI  Daily_Range  Close_Low_Ratio  \\\n",
       "6803   11      2  2025  76293.601562  49.247880  1356.687500         0.003459   \n",
       "6804   12      2  2025  76171.078125  47.643731  1071.328125         0.010382   \n",
       "6805   13      2  2025  76138.968750  49.638114   751.101562         0.001652   \n",
       "6806   14      2  2025  75939.210938  54.414854  1043.421875         0.006622   \n",
       "6807   17      2  2025  75996.859375  50.793814   747.203125         0.009325   \n",
       "\n",
       "            MACD         ATR  Rolling_Std_Dev  \n",
       "6803 -163.978442  779.252232       956.567186  \n",
       "6804 -237.491591  817.102679       975.092398  \n",
       "6805 -294.942337  806.881138       978.468637  \n",
       "6806 -352.527535  834.402344       914.995991  \n",
       "6807 -389.028000  824.196987       906.201408  "
      ]
     },
     "execution_count": 27,
     "metadata": {},
     "output_type": "execute_result"
    }
   ],
   "source": [
    "new_df = pd.DataFrame()\n",
    "\n",
    "new_df['Day'] = BSESN['Day']\n",
    "new_df['Month'] = BSESN['Month']\n",
    "new_df['Year'] = BSESN['Year']\n",
    "new_df['Close'] = BSESN['Close']\n",
    "\n",
    "new_df = create_feature(BSESN, new_df)\n",
    "new_df.tail()"
   ]
  },
  {
   "cell_type": "code",
   "execution_count": 28,
   "metadata": {},
   "outputs": [],
   "source": [
    "new_df.dropna(inplace=True)"
   ]
  },
  {
   "cell_type": "code",
   "execution_count": 29,
   "metadata": {},
   "outputs": [],
   "source": [
    "X_data = new_df.drop('Close', axis=1).values\n",
    "y_data = new_df['Close'].values.reshape(-1, 1)"
   ]
  },
  {
   "cell_type": "markdown",
   "metadata": {},
   "source": [
    "### Data Normalization"
   ]
  },
  {
   "cell_type": "code",
   "execution_count": 30,
   "metadata": {},
   "outputs": [],
   "source": [
    "scaler_features = StandardScaler()\n",
    "scaler_target = StandardScaler()\n",
    "scaled_X_data = scaler_features.fit_transform(X_data)\n",
    "scaled_y_data = scaler_target.fit_transform(y_data)"
   ]
  },
  {
   "cell_type": "markdown",
   "metadata": {},
   "source": [
    "### Create Sequences"
   ]
  },
  {
   "cell_type": "code",
   "execution_count": 31,
   "metadata": {},
   "outputs": [],
   "source": [
    "# Create sequences for LSTM\n",
    "def create_sequences(features, target, seq_length=90):\n",
    "    X, y = [], []\n",
    "    for i in range(seq_length, len(features)):\n",
    "        X.append(features[i-seq_length:i, :])\n",
    "        y.append(target[i, 0])\n",
    "    return np.array(X), np.array(y)"
   ]
  },
  {
   "cell_type": "code",
   "execution_count": 32,
   "metadata": {},
   "outputs": [],
   "source": [
    "X, y = create_sequences(scaled_X_data, scaled_y_data)"
   ]
  },
  {
   "cell_type": "markdown",
   "metadata": {},
   "source": [
    "### Data splitting"
   ]
  },
  {
   "cell_type": "code",
   "execution_count": 33,
   "metadata": {},
   "outputs": [
    {
     "name": "stdout",
     "output_type": "stream",
     "text": [
      "6704\n",
      "4692\n",
      "1341\n",
      "671\n",
      "671\n"
     ]
    }
   ],
   "source": [
    "training_size = int(len(X) * 0.7)\n",
    "validation_size = int(len(X) * 0.9)\n",
    "\n",
    "X_train, X_validate, X_test = X[:training_size], X[training_size:validation_size], X[validation_size:]\n",
    "y_train, y_validate, y_test = y[:training_size], y[training_size:validation_size], y[validation_size:]\n",
    "\n",
    "print(len(X))\n",
    "print(f\"{len(X_train)}\")\n",
    "print(f\"{len(X_validate)}\")\n",
    "print(f\"{len(X_test)}\")\n",
    "print(f\"{len(y_test)}\")"
   ]
  },
  {
   "cell_type": "code",
   "execution_count": 34,
   "metadata": {},
   "outputs": [
    {
     "name": "stdout",
     "output_type": "stream",
     "text": [
      "X: (6704, 90, 9)\n",
      "X_train: (4692, 90, 9)\n",
      "X_validate: (1341, 90, 9)\n",
      "X_test: (671, 90, 9)\n",
      "y_train: (4692,)\n",
      "y_validate: (1341,)\n",
      "y_test: (671,)\n"
     ]
    }
   ],
   "source": [
    "print(f\"X: {X.shape}\")\n",
    "print(f\"X_train: {X_train.shape}\")\n",
    "print(f\"X_validate: {X_validate.shape}\")\n",
    "print(f\"X_test: {X_test.shape}\")\n",
    "print(f\"y_train: {y_train.shape}\")\n",
    "print(f\"y_validate: {y_validate.shape}\")\n",
    "print(f\"y_test: {y_test.shape}\")"
   ]
  },
  {
   "cell_type": "markdown",
   "metadata": {},
   "source": [
    "# 2. Model creation"
   ]
  },
  {
   "cell_type": "markdown",
   "metadata": {},
   "source": [
    "### Plot epoch vs loss & epoch vs mae"
   ]
  },
  {
   "cell_type": "code",
   "execution_count": 35,
   "metadata": {},
   "outputs": [],
   "source": [
    "def plot_loss_mae(history):\n",
    "    # Extract values from history\n",
    "    loss = history.history['loss']\n",
    "    val_loss = history.history['val_loss']\n",
    "    mae = history.history['mean_absolute_error']\n",
    "    val_mae = history.history['val_mean_absolute_error']\n",
    "\n",
    "    epochs = range(1, len(loss) + 1)\n",
    "\n",
    "    # Plot Loss\n",
    "    plt.figure(figsize=(12, 5))\n",
    "    plt.subplot(1, 2, 1)\n",
    "    plt.plot(epochs, loss, 'bo-', label='Training Loss')\n",
    "    plt.plot(epochs, val_loss, 'r^-', label='Validation Loss')\n",
    "    plt.xlabel('Epochs')\n",
    "    plt.ylabel('Loss')\n",
    "    plt.title('Training vs Validation Loss')\n",
    "    plt.legend()\n",
    "\n",
    "    # Plot MAE\n",
    "    plt.subplot(1, 2, 2)\n",
    "    plt.plot(epochs, mae, 'bo-', label='Training MAE')\n",
    "    plt.plot(epochs, val_mae, 'r^-', label='Validation MAE')\n",
    "    plt.xlabel('Epochs')\n",
    "    plt.ylabel('Mean Absolute Error')\n",
    "    plt.title('Training vs Validation MAE')\n",
    "    plt.legend()\n",
    "\n",
    "    plt.show()"
   ]
  },
  {
   "cell_type": "markdown",
   "metadata": {},
   "source": [
    "### LSTM model"
   ]
  },
  {
   "cell_type": "code",
   "execution_count": 36,
   "metadata": {},
   "outputs": [
    {
     "name": "stderr",
     "output_type": "stream",
     "text": [
      "WARNING:absl:At this time, the v2.11+ optimizer `tf.keras.optimizers.Adam` runs slowly on M1/M2 Macs, please use the legacy Keras optimizer instead, located at `tf.keras.optimizers.legacy.Adam`.\n",
      "WARNING:absl:There is a known slowdown when using v2.11+ Keras optimizers on M1/M2 Macs. Falling back to the legacy Keras optimizer, i.e., `tf.keras.optimizers.legacy.Adam`.\n"
     ]
    },
    {
     "name": "stdout",
     "output_type": "stream",
     "text": [
      "Epoch 1/50\n"
     ]
    },
    {
     "name": "stderr",
     "output_type": "stream",
     "text": [
      "2025-03-25 16:10:56.573882: I tensorflow/core/grappler/optimizers/custom_graph_optimizer_registry.cc:114] Plugin optimizer for device_type GPU is enabled.\n",
      "2025-03-25 16:10:56.726030: I tensorflow/core/grappler/optimizers/custom_graph_optimizer_registry.cc:114] Plugin optimizer for device_type GPU is enabled.\n"
     ]
    },
    {
     "name": "stdout",
     "output_type": "stream",
     "text": [
      "  4/294 [..............................] - ETA: 5s - loss: 4.1192 - mean_absolute_error: 1.4714  "
     ]
    },
    {
     "name": "stderr",
     "output_type": "stream",
     "text": [
      "2025-03-25 16:10:56.952618: I tensorflow/core/grappler/optimizers/custom_graph_optimizer_registry.cc:114] Plugin optimizer for device_type GPU is enabled.\n"
     ]
    },
    {
     "name": "stdout",
     "output_type": "stream",
     "text": [
      "294/294 [==============================] - ETA: 0s - loss: 3.5509 - mean_absolute_error: 1.3750"
     ]
    },
    {
     "name": "stderr",
     "output_type": "stream",
     "text": [
      "2025-03-25 16:11:02.441864: I tensorflow/core/grappler/optimizers/custom_graph_optimizer_registry.cc:114] Plugin optimizer for device_type GPU is enabled.\n",
      "2025-03-25 16:11:02.501970: I tensorflow/core/grappler/optimizers/custom_graph_optimizer_registry.cc:114] Plugin optimizer for device_type GPU is enabled.\n"
     ]
    },
    {
     "name": "stdout",
     "output_type": "stream",
     "text": [
      "294/294 [==============================] - 7s 22ms/step - loss: 3.5509 - mean_absolute_error: 1.3750 - val_loss: 0.7118 - val_mean_absolute_error: 0.6813 - lr: 3.0000e-05\n",
      "Epoch 2/50\n",
      "294/294 [==============================] - 6s 20ms/step - loss: 2.8889 - mean_absolute_error: 1.2617 - val_loss: 0.7307 - val_mean_absolute_error: 0.6860 - lr: 3.0000e-05\n",
      "Epoch 3/50\n",
      "293/294 [============================>.] - ETA: 0s - loss: 2.4171 - mean_absolute_error: 1.1664\n",
      "Epoch 3: ReduceLROnPlateau reducing learning rate to 1.4999999621068127e-05.\n",
      "294/294 [==============================] - 6s 20ms/step - loss: 2.4170 - mean_absolute_error: 1.1664 - val_loss: 0.7805 - val_mean_absolute_error: 0.7108 - lr: 3.0000e-05\n"
     ]
    },
    {
     "data": {
      "image/png": "[encoded data removed]",
      "text/plain": [
       "<Figure size 1200x500 with 2 Axes>"
      ]
     },
     "metadata": {},
     "output_type": "display_data"
    }
   ],
   "source": [
    "# K.clear_session()\n",
    "\n",
    "# # LSTM Model\n",
    "\n",
    "\n",
    "inputs = Input(shape=(X_train.shape[1], X_train.shape[2]))\n",
    "\n",
    "x = LSTM(16, return_sequences=True, kernel_regularizer=l2(0.001))(inputs)\n",
    "x = Dropout(0.6)(x)\n",
    "x = BatchNormalization()(x)\n",
    "\n",
    "# x = LSTM(16, return_sequences=False)(x)\n",
    "# x = BatchNormalization()(x)\n",
    "# x = Dropout(0.4)(x)\n",
    "\n",
    "x = Dense(8, activation='relu')(x)\n",
    "x = Dropout(0.6)(x)\n",
    "\n",
    "output = Dense(1)(x)\n",
    "\n",
    "model = Model(inputs, output)\n",
    "\n",
    "optimizer = Adam(learning_rate=0.00003)\n",
    "model.compile(optimizer=optimizer, loss='mean_squared_error', metrics=['mean_absolute_error'])\n",
    "\n",
    "# Early stopping callback\n",
    "early_stopping = EarlyStopping(monitor='val_loss', patience=2, restore_best_weights=True)\n",
    "\n",
    "lr_scheduler = ReduceLROnPlateau(monitor='val_loss', factor=0.5, patience=2, min_lr=1e-6, verbose=1)\n",
    "\n",
    "# Train model\n",
    "history = model.fit(\n",
    "    X_train, y_train,\n",
    "    epochs=50,\n",
    "    batch_size=16,\n",
    "    validation_data=(X_validate, y_validate),\n",
    "    callbacks=[early_stopping, lr_scheduler],\n",
    "    verbose=1\n",
    ")\n",
    "\n",
    "plot_loss_mae(history)"
   ]
  },
  {
   "cell_type": "code",
   "execution_count": null,
   "metadata": {},
   "outputs": [],
   "source": [
    "from sklearn.metrics import mean_absolute_error\n",
    "\n",
    "#Make predictions\n",
    "y_pred = model.predict(X_test)\n",
    "\n",
    "mae = mean_absolute_error(y_test, y_pred)\n",
    "print(f\"Mean Absolute Error on test data: {mae}\")\n",
    "\n",
    "y_pred_inverse = scaler_target.inverse_transform(y_pred)\n",
    "y_test_inverse = scaler_target.inverse_transform(y_test.reshape(-1, 1))\n",
    "\n",
    "mae = mean_absolute_error(y_test_inverse, y_pred_inverse)\n",
    "print(f\"Mean Absolute Error on Inversed test data: {mae}\")"
   ]
  },
  {
   "cell_type": "code",
   "execution_count": null,
   "metadata": {},
   "outputs": [],
   "source": [
    "#Plot predicted vs actual\n",
    "plt.figure(figsize=(12,6))\n",
    "plt.plot(y_test_inverse, label='Actual')\n",
    "plt.plot(y_pred_inverse, label='Predicted')\n",
    "plt.legend()\n",
    "plt.title(\"Actual vs Predicted Stock Prices\")\n",
    "plt.show()"
   ]
  }
 ],
 "metadata": {
  "kernelspec": {
   "display_name": "Python 3",
   "language": "python",
   "name": "python3"
  },
  "language_info": {
   "codemirror_mode": {
    "name": "ipython",
    "version": 3
   },
   "file_extension": ".py",
   "mimetype": "text/x-python",
   "name": "python",
   "nbconvert_exporter": "python",
   "pygments_lexer": "ipython3",
   "version": "3.8.16"
  }
 },
 "nbformat": 4,
 "nbformat_minor": 2
}
