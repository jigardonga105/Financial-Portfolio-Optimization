{
 "cells": [
  {
   "cell_type": "code",
   "execution_count": 3,
   "metadata": {},
   "outputs": [],
   "source": [
    "import numpy as np\n",
    "import pandas as pd\n",
    "import matplotlib.pyplot as plt\n",
    "from sklearn.preprocessing import StandardScaler\n",
    "from tensorflow.keras.models import Model\n",
    "from tensorflow.keras.layers import Input, LSTM, Dense\n",
    "from tensorflow.keras.optimizers import Adam"
   ]
  },
  {
   "cell_type": "markdown",
   "metadata": {},
   "source": [
    "# 1. Preprocessing"
   ]
  },
  {
   "cell_type": "markdown",
   "metadata": {},
   "source": [
    "### Data Gathering"
   ]
  },
  {
   "cell_type": "code",
   "execution_count": 4,
   "metadata": {},
   "outputs": [],
   "source": [
    "indexes = []\n",
    "all_indexes = {}"
   ]
  },
  {
   "cell_type": "code",
   "execution_count": 5,
   "metadata": {},
   "outputs": [],
   "source": [
    "index_excel_file = '../Data/Index_Data.xlsx'\n",
    "all_indexes = pd.read_excel(index_excel_file, sheet_name=None)\n",
    "\n",
    "for sheet_name, df in all_indexes.items():\n",
    "    indexes.append(sheet_name)\n",
    "    all_indexes[sheet_name] = df"
   ]
  },
  {
   "cell_type": "code",
   "execution_count": 6,
   "metadata": {},
   "outputs": [
    {
     "data": {
      "text/html": [
       "<div>\n",
       "<style scoped>\n",
       "    .dataframe tbody tr th:only-of-type {\n",
       "        vertical-align: middle;\n",
       "    }\n",
       "\n",
       "    .dataframe tbody tr th {\n",
       "        vertical-align: top;\n",
       "    }\n",
       "\n",
       "    .dataframe thead th {\n",
       "        text-align: right;\n",
       "    }\n",
       "</style>\n",
       "<table border=\"1\" class=\"dataframe\">\n",
       "  <thead>\n",
       "    <tr style=\"text-align: right;\">\n",
       "      <th></th>\n",
       "      <th>Date</th>\n",
       "      <th>Open</th>\n",
       "      <th>High</th>\n",
       "      <th>Low</th>\n",
       "      <th>Close</th>\n",
       "      <th>Volume</th>\n",
       "      <th>Dividends</th>\n",
       "      <th>Stock_Splits</th>\n",
       "      <th>Percent_Change_In_Price</th>\n",
       "    </tr>\n",
       "  </thead>\n",
       "  <tbody>\n",
       "    <tr>\n",
       "      <th>6803</th>\n",
       "      <td>2025-02-11 00:00:00+05:30</td>\n",
       "      <td>77384.976562</td>\n",
       "      <td>77387.281250</td>\n",
       "      <td>76030.593750</td>\n",
       "      <td>76293.601562</td>\n",
       "      <td>9800</td>\n",
       "      <td>0</td>\n",
       "      <td>0</td>\n",
       "      <td>-0.013170</td>\n",
       "    </tr>\n",
       "    <tr>\n",
       "      <th>6804</th>\n",
       "      <td>2025-02-12 00:00:00+05:30</td>\n",
       "      <td>76188.242188</td>\n",
       "      <td>76459.718750</td>\n",
       "      <td>75388.390625</td>\n",
       "      <td>76171.078125</td>\n",
       "      <td>10400</td>\n",
       "      <td>0</td>\n",
       "      <td>0</td>\n",
       "      <td>-0.001606</td>\n",
       "    </tr>\n",
       "    <tr>\n",
       "      <th>6805</th>\n",
       "      <td>2025-02-13 00:00:00+05:30</td>\n",
       "      <td>76201.101562</td>\n",
       "      <td>76764.531250</td>\n",
       "      <td>76013.429688</td>\n",
       "      <td>76138.968750</td>\n",
       "      <td>6900</td>\n",
       "      <td>0</td>\n",
       "      <td>0</td>\n",
       "      <td>-0.000422</td>\n",
       "    </tr>\n",
       "    <tr>\n",
       "      <th>6806</th>\n",
       "      <td>2025-02-14 00:00:00+05:30</td>\n",
       "      <td>76388.992188</td>\n",
       "      <td>76483.062500</td>\n",
       "      <td>75439.640625</td>\n",
       "      <td>75939.210938</td>\n",
       "      <td>9300</td>\n",
       "      <td>0</td>\n",
       "      <td>0</td>\n",
       "      <td>-0.002624</td>\n",
       "    </tr>\n",
       "    <tr>\n",
       "      <th>6807</th>\n",
       "      <td>2025-02-17 00:00:00+05:30</td>\n",
       "      <td>75641.406250</td>\n",
       "      <td>76041.960938</td>\n",
       "      <td>75294.757812</td>\n",
       "      <td>75996.859375</td>\n",
       "      <td>0</td>\n",
       "      <td>0</td>\n",
       "      <td>0</td>\n",
       "      <td>0.000759</td>\n",
       "    </tr>\n",
       "  </tbody>\n",
       "</table>\n",
       "</div>"
      ],
      "text/plain": [
       "                           Date  ...  Percent_Change_In_Price\n",
       "6803  2025-02-11 00:00:00+05:30  ...                -0.013170\n",
       "6804  2025-02-12 00:00:00+05:30  ...                -0.001606\n",
       "6805  2025-02-13 00:00:00+05:30  ...                -0.000422\n",
       "6806  2025-02-14 00:00:00+05:30  ...                -0.002624\n",
       "6807  2025-02-17 00:00:00+05:30  ...                 0.000759\n",
       "\n",
       "[5 rows x 9 columns]"
      ]
     },
     "execution_count": 6,
     "metadata": {},
     "output_type": "execute_result"
    }
   ],
   "source": [
    "BSESN = all_indexes['BSESN']\n",
    "BSESN.tail()"
   ]
  },
  {
   "cell_type": "code",
   "execution_count": 7,
   "metadata": {},
   "outputs": [
    {
     "data": {
      "text/plain": [
       "6808"
      ]
     },
     "execution_count": 7,
     "metadata": {},
     "output_type": "execute_result"
    }
   ],
   "source": [
    "len(BSESN)"
   ]
  },
  {
   "cell_type": "markdown",
   "metadata": {},
   "source": [
    "### Feature Engineering"
   ]
  },
  {
   "cell_type": "code",
   "execution_count": 8,
   "metadata": {},
   "outputs": [],
   "source": [
    "BSESN['Date'] = pd.to_datetime(BSESN['Date'])\n",
    "BSESN = BSESN.sort_values('Date').reset_index(drop=True)"
   ]
  },
  {
   "cell_type": "code",
   "execution_count": 9,
   "metadata": {},
   "outputs": [],
   "source": [
    "BSESN['52W_High'] = BSESN['High'].rolling(window=252, min_periods=1).max()\n",
    "BSESN['52W_Low'] = BSESN['Low'].rolling(window=252, min_periods=1).min()"
   ]
  },
  {
   "cell_type": "code",
   "execution_count": 10,
   "metadata": {},
   "outputs": [],
   "source": [
    "features = ['Open', 'Close', '52W_High', '52W_Low']\n",
    "target = 'Close'"
   ]
  },
  {
   "cell_type": "code",
   "execution_count": 11,
   "metadata": {},
   "outputs": [],
   "source": [
    "X_data = BSESN[features].values\n",
    "y_data = BSESN['Close'].values.reshape(-1, 1)"
   ]
  },
  {
   "cell_type": "code",
   "execution_count": 12,
   "metadata": {},
   "outputs": [
    {
     "data": {
      "text/plain": [
       "array([[ 4300.85986328],\n",
       "       [ 4333.89990234],\n",
       "       [ 4323.45996094],\n",
       "       ...,\n",
       "       [76138.96875   ],\n",
       "       [75939.2109375 ],\n",
       "       [75996.859375  ]])"
      ]
     },
     "execution_count": 12,
     "metadata": {},
     "output_type": "execute_result"
    }
   ],
   "source": [
    "y_data"
   ]
  },
  {
   "cell_type": "code",
   "execution_count": 13,
   "metadata": {},
   "outputs": [
    {
     "data": {
      "text/plain": [
       "6808"
      ]
     },
     "execution_count": 13,
     "metadata": {},
     "output_type": "execute_result"
    }
   ],
   "source": [
    "len(X_data)"
   ]
  },
  {
   "cell_type": "markdown",
   "metadata": {},
   "source": [
    "### Data Normalization"
   ]
  },
  {
   "cell_type": "code",
   "execution_count": 14,
   "metadata": {},
   "outputs": [],
   "source": [
    "# Normalize the data\n",
    "# scaler_features = MinMaxScaler(feature_range=(0, 1))\n",
    "# scaler_target = MinMaxScaler(feature_range=(0, 1))\n",
    "# scaled_X_data = scaler_features.fit_transform(X_data)\n",
    "# scaled_y_data = scaler_target.fit_transform(y_data)\n",
    "\n",
    "\n",
    "scaler_features = StandardScaler()\n",
    "scaler_target = StandardScaler()\n",
    "scaled_X_data = scaler_features.fit_transform(X_data)\n",
    "scaled_y_data = scaler_target.fit_transform(y_data)"
   ]
  },
  {
   "cell_type": "markdown",
   "metadata": {},
   "source": [
    "### Create Sequences"
   ]
  },
  {
   "cell_type": "code",
   "execution_count": 15,
   "metadata": {},
   "outputs": [],
   "source": [
    "# Create sequences for LSTM\n",
    "def create_sequences(features, target, seq_length=90):\n",
    "    X, y = [], []\n",
    "    for i in range(seq_length, len(features)):\n",
    "        X.append(features[i-seq_length:i, :])  # Use all features\n",
    "        y.append(target[i, 0])  # Predict `Close` price\n",
    "    return np.array(X), np.array(y)"
   ]
  },
  {
   "cell_type": "code",
   "execution_count": 16,
   "metadata": {},
   "outputs": [],
   "source": [
    "X, y = create_sequences(scaled_X_data, scaled_y_data)"
   ]
  },
  {
   "cell_type": "code",
   "execution_count": 17,
   "metadata": {},
   "outputs": [
    {
     "data": {
      "text/plain": [
       "6718"
      ]
     },
     "execution_count": 17,
     "metadata": {},
     "output_type": "execute_result"
    }
   ],
   "source": [
    "len(y)"
   ]
  },
  {
   "cell_type": "code",
   "execution_count": 18,
   "metadata": {},
   "outputs": [
    {
     "data": {
      "text/plain": [
       "array([2.58472466, 2.58756534])"
      ]
     },
     "execution_count": 18,
     "metadata": {},
     "output_type": "execute_result"
    }
   ],
   "source": [
    "y[-2:]"
   ]
  },
  {
   "cell_type": "code",
   "execution_count": 19,
   "metadata": {},
   "outputs": [
    {
     "data": {
      "text/plain": [
       "array([[[2.87821133, 2.85711593, 2.89873162, 2.67959043],\n",
       "        [2.87220744, 2.86422666, 2.89873162, 2.67959043],\n",
       "        [2.85476708, 2.85289091, 2.89873162, 2.67959043],\n",
       "        [2.85961451, 2.88204679, 2.89873162, 2.67959043],\n",
       "        [2.88546401, 2.87451106, 2.89873162, 2.67959043],\n",
       "        [2.86304541, 2.85880401, 2.89873162, 2.67959043],\n",
       "        [2.86853455, 2.8344248 , 2.89873162, 2.67959043],\n",
       "        [2.81885684, 2.84517386, 2.89873162, 2.67959043],\n",
       "        [2.86912317, 2.84155324, 2.89873162, 2.67959043],\n",
       "        [2.83884095, 2.79569941, 2.89873162, 2.67959043],\n",
       "        [2.77807686, 2.78886278, 2.89873162, 2.67959043],\n",
       "        [2.78680108, 2.78803394, 2.89873162, 2.67959043],\n",
       "        [2.79118608, 2.75537063, 2.89873162, 2.67959043],\n",
       "        [2.76490608, 2.78507162, 2.89873162, 2.67959043],\n",
       "        [2.78379259, 2.80300763, 2.89873162, 2.67959043],\n",
       "        [2.79367328, 2.78197417, 2.89873162, 2.67959043],\n",
       "        [2.78417423, 2.75471888, 2.89873162, 2.67959043],\n",
       "        [2.78313011, 2.77122897, 2.89873162, 2.67959043],\n",
       "        [2.76783454, 2.72481732, 2.89873162, 2.67959043],\n",
       "        [2.71017088, 2.75903398, 2.89873162, 2.67959043],\n",
       "        [2.77072415, 2.80345611, 2.89873162, 2.69765328],\n",
       "        [2.80970558, 2.7622446 , 2.89873162, 2.69994297],\n",
       "        [2.762849  , 2.75951134, 2.89873162, 2.70709929],\n",
       "        [2.74741416, 2.75999562, 2.89873162, 2.70709929],\n",
       "        [2.76447673, 2.71954173, 2.89873162, 2.72302749],\n",
       "        [2.70787489, 2.67104317, 2.89873162, 2.75069021],\n",
       "        [2.66559451, 2.66559126, 2.89873162, 2.76906382],\n",
       "        [2.67675322, 2.65370078, 2.89873162, 2.76906382],\n",
       "        [2.66121489, 2.66549618, 2.89873162, 2.76906382],\n",
       "        [2.66924701, 2.64467253, 2.89873162, 2.76906382],\n",
       "        [2.65145193, 2.74131817, 2.89873162, 2.76906382],\n",
       "        [2.7914877 , 2.79023634, 2.89873162, 2.78544418],\n",
       "        [2.80241981, 2.7850235 , 2.89873162, 2.81672088],\n",
       "        [2.78792061, 2.7963577 , 2.89873162, 2.82474957],\n",
       "        [2.79582961, 2.73770294, 2.89873162, 2.82720156],\n",
       "        [2.73434148, 2.77510559, 2.89873162, 2.82720156],\n",
       "        [2.76934763, 2.79704757, 2.89873162, 2.8342402 ],\n",
       "        [2.80802052, 2.82649833, 2.89873162, 2.8342402 ],\n",
       "        [2.83298787, 2.83194715, 2.89873162, 2.848022  ],\n",
       "        [2.84020324, 2.87183746, 2.89873162, 2.848022  ],\n",
       "        [2.87491008, 2.86904144, 2.89873162, 2.84877975],\n",
       "        [2.86087753, 2.85915394, 2.89873162, 2.87691365],\n",
       "        [2.8595668 , 2.85923209, 2.89873162, 2.89109429],\n",
       "        [2.85919401, 2.86002512, 2.89873162, 2.92348811],\n",
       "        [2.85468167, 2.84838718, 2.89873162, 2.9911597 ],\n",
       "        [2.84166631, 2.88993438, 2.89873162, 3.03207384],\n",
       "        [2.88046347, 2.87098553, 2.89873162, 3.04083374],\n",
       "        [2.85640789, 2.8185503 , 2.89873162, 3.04083374],\n",
       "        [2.81476961, 2.79380152, 2.89873162, 3.04083374],\n",
       "        [2.73414643, 2.74629195, 2.89873162, 3.04083374],\n",
       "        [2.74923695, 2.68832127, 2.89873162, 3.04083374],\n",
       "        [2.70753557, 2.71288911, 2.89873162, 3.04083374],\n",
       "        [2.71830648, 2.70957262, 2.89873162, 3.09013101],\n",
       "        [2.71091569, 2.70955337, 2.89873162, 3.09013101],\n",
       "        [2.71339442, 2.72071896, 2.89873162, 3.09013101],\n",
       "        [2.71486981, 2.69849865, 2.89873162, 3.09013101],\n",
       "        [2.68261477, 2.69312143, 2.89873162, 3.09013101],\n",
       "        [2.69652613, 2.71127456, 2.89873162, 3.09013101],\n",
       "        [2.71585199, 2.78204963, 2.89873162, 3.09501433],\n",
       "        [2.78555498, 2.7465414 , 2.89873162, 3.09501433],\n",
       "        [2.74658625, 2.68454667, 2.89873162, 3.09501433],\n",
       "        [2.68444794, 2.69608298, 2.89873162, 3.09501433],\n",
       "        [2.69920414, 2.69358878, 2.89873162, 3.09501433],\n",
       "        [2.69362767, 2.66755729, 2.89873162, 3.09501433],\n",
       "        [2.66784279, 2.65566681, 2.89873162, 3.09501433],\n",
       "        [2.61600413, 2.60398149, 2.89873162, 3.09501433],\n",
       "        [2.60151915, 2.6123399 , 2.89873162, 3.09501433],\n",
       "        [2.62931187, 2.62339963, 2.89873162, 3.09501433],\n",
       "        [2.6499627 , 2.6391059 , 2.89873162, 3.09501433],\n",
       "        [2.63763637, 2.61823799, 2.89873162, 3.09501433],\n",
       "        [2.63317211, 2.64061459, 2.89873162, 3.09501433],\n",
       "        [2.64711733, 2.57975512, 2.89873162, 3.09501433],\n",
       "        [2.59062013, 2.60767641, 2.89873162, 3.09501433],\n",
       "        [2.60539825, 2.61336238, 2.89873162, 3.09501433],\n",
       "        [2.60740878, 2.59710521, 2.89873162, 3.09501433],\n",
       "        [2.5702336 , 2.5564877 , 2.89873162, 3.09501433],\n",
       "        [2.56819345, 2.58286181, 2.89873162, 3.09501433],\n",
       "        [2.59179313, 2.61398217, 2.89873162, 3.09501433],\n",
       "        [2.61447488, 2.62516047, 2.89873162, 3.09501433],\n",
       "        [2.62875787, 2.6616619 , 2.89873162, 3.10901457],\n",
       "        [2.63737784, 2.64619777, 2.89873162, 3.10901457],\n",
       "        [2.6680894 , 2.71503954, 2.89873162, 3.10901457],\n",
       "        [2.71817029, 2.69963931, 2.89873162, 3.10901457],\n",
       "        [2.70875281, 2.6891374 , 2.89873162, 3.10901457],\n",
       "        [2.6893627 , 2.67938233, 2.89873162, 3.10901457],\n",
       "        [2.67309726, 2.65235994, 2.89873162, 3.10901457],\n",
       "        [2.65318701, 2.60218755, 2.89873162, 3.10901457],\n",
       "        [2.59425532, 2.59615011, 2.89873162, 3.10901457],\n",
       "        [2.59488856, 2.59456789, 2.89873162, 3.10901457],\n",
       "        [2.604141  , 2.58472466, 2.89873162, 3.10901457]]])"
      ]
     },
     "execution_count": 19,
     "metadata": {},
     "output_type": "execute_result"
    }
   ],
   "source": [
    "X[-1:]"
   ]
  },
  {
   "cell_type": "markdown",
   "metadata": {},
   "source": [
    "### Data splitting"
   ]
  },
  {
   "cell_type": "code",
   "execution_count": 20,
   "metadata": {},
   "outputs": [
    {
     "name": "stdout",
     "output_type": "stream",
     "text": [
      "6718\n",
      "4702\n",
      "1344\n",
      "672\n",
      "672\n"
     ]
    }
   ],
   "source": [
    "training_size = int(len(X) * 0.7)\n",
    "validation_size = int(len(X) * 0.9)\n",
    "\n",
    "X_train, X_validate, X_test = X[:training_size], X[training_size:validation_size], X[validation_size:]\n",
    "y_train, y_validate, y_test = y[:training_size], y[training_size:validation_size], y[validation_size:]\n",
    "\n",
    "print(len(X))\n",
    "print(f\"{len(X_train)}\")\n",
    "print(f\"{len(X_validate)}\")\n",
    "print(f\"{len(X_test)}\")\n",
    "print(f\"{len(y_test)}\")"
   ]
  },
  {
   "cell_type": "code",
   "execution_count": 21,
   "metadata": {},
   "outputs": [
    {
     "name": "stdout",
     "output_type": "stream",
     "text": [
      "(6718, 90, 4)\n",
      "(4702, 90, 4)\n",
      "(1344, 90, 4)\n",
      "(672, 90, 4)\n",
      "(672,)\n"
     ]
    }
   ],
   "source": [
    "print(X.shape)\n",
    "print(f\"{X_train.shape}\")\n",
    "print(f\"{X_validate.shape}\")\n",
    "print(f\"{X_test.shape}\")\n",
    "print(f\"{y_test.shape}\")"
   ]
  },
  {
   "cell_type": "markdown",
   "metadata": {},
   "source": [
    "# 2. Model creation"
   ]
  },
  {
   "cell_type": "markdown",
   "metadata": {},
   "source": [
    "### Plot epoch vs loss & epoch vs mae"
   ]
  },
  {
   "cell_type": "code",
   "execution_count": 22,
   "metadata": {},
   "outputs": [],
   "source": [
    "def plot_loss_mae(history):\n",
    "    # Extract values from history\n",
    "    loss = history.history['loss']\n",
    "    val_loss = history.history['val_loss']\n",
    "    mae = history.history['mean_absolute_error']\n",
    "    val_mae = history.history['val_mean_absolute_error']\n",
    "\n",
    "    epochs = range(1, len(loss) + 1)\n",
    "\n",
    "    # Plot Loss\n",
    "    plt.figure(figsize=(12, 5))\n",
    "    plt.subplot(1, 2, 1)\n",
    "    plt.plot(epochs, loss, 'bo-', label='Training Loss')\n",
    "    plt.plot(epochs, val_loss, 'r^-', label='Validation Loss')\n",
    "    plt.xlabel('Epochs')\n",
    "    plt.ylabel('Loss')\n",
    "    plt.title('Training vs Validation Loss')\n",
    "    plt.legend()\n",
    "\n",
    "    # Plot MAE\n",
    "    plt.subplot(1, 2, 2)\n",
    "    plt.plot(epochs, mae, 'bo-', label='Training MAE')\n",
    "    plt.plot(epochs, val_mae, 'r^-', label='Validation MAE')\n",
    "    plt.xlabel('Epochs')\n",
    "    plt.ylabel('Mean Absolute Error')\n",
    "    plt.title('Training vs Validation MAE')\n",
    "    plt.legend()\n",
    "\n",
    "    plt.show()"
   ]
  },
  {
   "cell_type": "markdown",
   "metadata": {},
   "source": [
    "### LSTM model"
   ]
  },
  {
   "cell_type": "code",
   "execution_count": 23,
   "metadata": {},
   "outputs": [
    {
     "name": "stderr",
     "output_type": "stream",
     "text": [
      "2025-02-18 14:05:10.983091: I metal_plugin/src/device/metal_device.cc:1154] Metal device set to: Apple M2\n",
      "2025-02-18 14:05:10.983119: I metal_plugin/src/device/metal_device.cc:296] systemMemory: 16.00 GB\n",
      "2025-02-18 14:05:10.983125: I metal_plugin/src/device/metal_device.cc:313] maxCacheSize: 5.33 GB\n",
      "2025-02-18 14:05:10.983979: I tensorflow/core/common_runtime/pluggable_device/pluggable_device_factory.cc:303] Could not identify NUMA node of platform GPU ID 0, defaulting to 0. Your kernel may not have been built with NUMA support.\n",
      "2025-02-18 14:05:10.984252: I tensorflow/core/common_runtime/pluggable_device/pluggable_device_factory.cc:269] Created TensorFlow device (/job:localhost/replica:0/task:0/device:GPU:0 with 0 MB memory) -> physical PluggableDevice (device: 0, name: METAL, pci bus id: <undefined>)\n",
      "WARNING:absl:At this time, the v2.11+ optimizer `tf.keras.optimizers.Adam` runs slowly on M1/M2 Macs, please use the legacy Keras optimizer instead, located at `tf.keras.optimizers.legacy.Adam`.\n",
      "WARNING:absl:There is a known slowdown when using v2.11+ Keras optimizers on M1/M2 Macs. Falling back to the legacy Keras optimizer, i.e., `tf.keras.optimizers.legacy.Adam`.\n"
     ]
    },
    {
     "name": "stdout",
     "output_type": "stream",
     "text": [
      "Epoch 1/20\n"
     ]
    },
    {
     "name": "stderr",
     "output_type": "stream",
     "text": [
      "2025-02-18 14:05:12.242846: I tensorflow/core/grappler/optimizers/custom_graph_optimizer_registry.cc:114] Plugin optimizer for device_type GPU is enabled.\n",
      "2025-02-18 14:05:12.449174: I tensorflow/core/grappler/optimizers/custom_graph_optimizer_registry.cc:114] Plugin optimizer for device_type GPU is enabled.\n",
      "2025-02-18 14:05:12.518985: I tensorflow/core/grappler/optimizers/custom_graph_optimizer_registry.cc:114] Plugin optimizer for device_type GPU is enabled.\n"
     ]
    },
    {
     "name": "stdout",
     "output_type": "stream",
     "text": [
      "  1/147 [..............................] - ETA: 3:29 - loss: 0.3317 - mean_absolute_error: 0.4678"
     ]
    },
    {
     "name": "stderr",
     "output_type": "stream",
     "text": [
      "2025-02-18 14:05:12.681677: I tensorflow/core/grappler/optimizers/custom_graph_optimizer_registry.cc:114] Plugin optimizer for device_type GPU is enabled.\n",
      "2025-02-18 14:05:12.784511: I tensorflow/core/grappler/optimizers/custom_graph_optimizer_registry.cc:114] Plugin optimizer for device_type GPU is enabled.\n"
     ]
    },
    {
     "name": "stdout",
     "output_type": "stream",
     "text": [
      "147/147 [==============================] - ETA: 0s - loss: 0.1316 - mean_absolute_error: 0.2948"
     ]
    },
    {
     "name": "stderr",
     "output_type": "stream",
     "text": [
      "2025-02-18 14:05:16.899324: I tensorflow/core/grappler/optimizers/custom_graph_optimizer_registry.cc:114] Plugin optimizer for device_type GPU is enabled.\n",
      "2025-02-18 14:05:16.966228: I tensorflow/core/grappler/optimizers/custom_graph_optimizer_registry.cc:114] Plugin optimizer for device_type GPU is enabled.\n",
      "2025-02-18 14:05:17.009805: I tensorflow/core/grappler/optimizers/custom_graph_optimizer_registry.cc:114] Plugin optimizer for device_type GPU is enabled.\n"
     ]
    },
    {
     "name": "stdout",
     "output_type": "stream",
     "text": [
      "147/147 [==============================] - 6s 31ms/step - loss: 0.1316 - mean_absolute_error: 0.2948 - val_loss: 0.5884 - val_mean_absolute_error: 0.6417\n",
      "Epoch 2/20\n",
      "147/147 [==============================] - 4s 29ms/step - loss: 0.0105 - mean_absolute_error: 0.0734 - val_loss: 0.3637 - val_mean_absolute_error: 0.4872\n",
      "Epoch 3/20\n",
      "147/147 [==============================] - 4s 28ms/step - loss: 0.0043 - mean_absolute_error: 0.0473 - val_loss: 0.4787 - val_mean_absolute_error: 0.5751\n",
      "Epoch 4/20\n",
      "147/147 [==============================] - 4s 28ms/step - loss: 0.0053 - mean_absolute_error: 0.0473 - val_loss: 0.2826 - val_mean_absolute_error: 0.4604\n",
      "Epoch 5/20\n",
      "147/147 [==============================] - 4s 28ms/step - loss: 0.0021 - mean_absolute_error: 0.0329 - val_loss: 0.4629 - val_mean_absolute_error: 0.5671\n",
      "Epoch 6/20\n",
      "147/147 [==============================] - 4s 28ms/step - loss: 7.1313e-04 - mean_absolute_error: 0.0202 - val_loss: 0.5383 - val_mean_absolute_error: 0.6023\n",
      "Epoch 7/20\n",
      "147/147 [==============================] - 4s 28ms/step - loss: 6.7822e-04 - mean_absolute_error: 0.0199 - val_loss: 0.5913 - val_mean_absolute_error: 0.6310\n",
      "Epoch 8/20\n",
      "147/147 [==============================] - 4s 28ms/step - loss: 6.2975e-04 - mean_absolute_error: 0.0192 - val_loss: 0.6395 - val_mean_absolute_error: 0.6596\n",
      "Epoch 9/20\n",
      "147/147 [==============================] - 4s 28ms/step - loss: 5.7643e-04 - mean_absolute_error: 0.0181 - val_loss: 0.6691 - val_mean_absolute_error: 0.6788\n",
      "Epoch 10/20\n",
      "147/147 [==============================] - 4s 28ms/step - loss: 7.5965e-04 - mean_absolute_error: 0.0213 - val_loss: 0.7408 - val_mean_absolute_error: 0.7172\n",
      "Epoch 11/20\n",
      "147/147 [==============================] - 4s 28ms/step - loss: 5.0782e-04 - mean_absolute_error: 0.0172 - val_loss: 0.7860 - val_mean_absolute_error: 0.7360\n",
      "Epoch 12/20\n",
      "147/147 [==============================] - 4s 27ms/step - loss: 6.2458e-04 - mean_absolute_error: 0.0196 - val_loss: 0.8245 - val_mean_absolute_error: 0.7547\n",
      "Epoch 13/20\n",
      "147/147 [==============================] - 4s 27ms/step - loss: 5.2976e-04 - mean_absolute_error: 0.0176 - val_loss: 0.8802 - val_mean_absolute_error: 0.7819\n",
      "Epoch 14/20\n",
      "147/147 [==============================] - 4s 28ms/step - loss: 4.5727e-04 - mean_absolute_error: 0.0164 - val_loss: 0.9078 - val_mean_absolute_error: 0.7942\n",
      "Epoch 15/20\n",
      "147/147 [==============================] - 4s 29ms/step - loss: 5.4582e-04 - mean_absolute_error: 0.0180 - val_loss: 0.9520 - val_mean_absolute_error: 0.8153\n",
      "Epoch 16/20\n",
      "147/147 [==============================] - 4s 28ms/step - loss: 5.5810e-04 - mean_absolute_error: 0.0184 - val_loss: 0.9986 - val_mean_absolute_error: 0.8341\n",
      "Epoch 17/20\n",
      "147/147 [==============================] - 4s 28ms/step - loss: 6.8274e-04 - mean_absolute_error: 0.0207 - val_loss: 1.0553 - val_mean_absolute_error: 0.8572\n",
      "Epoch 18/20\n",
      "147/147 [==============================] - 4s 28ms/step - loss: 4.3915e-04 - mean_absolute_error: 0.0160 - val_loss: 1.1021 - val_mean_absolute_error: 0.8821\n",
      "Epoch 19/20\n",
      "147/147 [==============================] - 4s 27ms/step - loss: 3.8086e-04 - mean_absolute_error: 0.0147 - val_loss: 1.1369 - val_mean_absolute_error: 0.8894\n",
      "Epoch 20/20\n",
      "147/147 [==============================] - 4s 28ms/step - loss: 5.5572e-04 - mean_absolute_error: 0.0185 - val_loss: 1.1765 - val_mean_absolute_error: 0.9072\n"
     ]
    },
    {
     "data": {
      "image/png": "[encoded data removed]",
      "text/plain": [
       "<Figure size 1200x500 with 2 Axes>"
      ]
     },
     "metadata": {},
     "output_type": "display_data"
    }
   ],
   "source": [
    "# # LSTM Model\n",
    "\n",
    "inputs = Input(shape=(X_train.shape[1], X_train.shape[2]))\n",
    "\n",
    "x = LSTM(128, return_sequences=True)(inputs)\n",
    "x = LSTM(64, return_sequences=False)(x)\n",
    "x = Dense(32, activation='relu')(x)\n",
    "x = Dense(16, activation='relu')(x)\n",
    "\n",
    "output = Dense(1)(x)\n",
    "\n",
    "\n",
    "model = Model(inputs, output)\n",
    "\n",
    "model.compile(optimizer=Adam(), loss='mean_squared_error', metrics=['mean_absolute_error'])\n",
    "\n",
    "history = model.fit(X_train, y_train, epochs=20, batch_size=32, validation_data=(X_validate, y_validate))\n",
    "\n",
    "plot_loss_mae(history)"
   ]
  },
  {
   "cell_type": "code",
   "execution_count": null,
   "metadata": {},
   "outputs": [],
   "source": []
  }
 ],
 "metadata": {
  "kernelspec": {
   "display_name": "Python 3",
   "language": "python",
   "name": "python3"
  },
  "language_info": {
   "codemirror_mode": {
    "name": "ipython",
    "version": 3
   },
   "file_extension": ".py",
   "mimetype": "text/x-python",
   "name": "python",
   "nbconvert_exporter": "python",
   "pygments_lexer": "ipython3",
   "version": "3.8.16"
  }
 },
 "nbformat": 4,
 "nbformat_minor": 2
}
